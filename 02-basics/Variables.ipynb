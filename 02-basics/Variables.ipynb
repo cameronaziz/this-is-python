{
  "cells": [
    {
      "cell_type": "markdown",
      "metadata": {
        "id": "view-in-github",
        "colab_type": "text"
      },
      "source": [
        "<a href=\"https://colab.research.google.com/github/cameronaziz/this-is-python/blob/main/02-basics/Variables.ipynb\" target=\"_parent\"><img src=\"https://colab.research.google.com/assets/colab-badge.svg\" alt=\"Open In Colab\"/></a>"
      ]
    },
    {
      "cell_type": "markdown",
      "metadata": {
        "id": "rGpYP5fGhdJS"
      },
      "source": [
        "# Variables"
      ]
    },
    {
      "cell_type": "markdown",
      "metadata": {
        "id": "NgYNJ2DO0F0P"
      },
      "source": [
        "Within Colabatory, we can run a snippet of code by hovering over it and clicking the play button to the left.\n",
        "\n",
        "Now, run with me here, we talk about variable types in a minute, but the following code is defining a variable called `name`."
      ]
    },
    {
      "cell_type": "code",
      "execution_count": 1,
      "metadata": {
        "id": "dAPiD_dx3a4M"
      },
      "outputs": [],
      "source": [
        "first_name = 'Jackie'"
      ]
    },
    {
      "cell_type": "markdown",
      "metadata": {
        "id": "Ohw2ynNf_Nil"
      },
      "source": [
        "The code above defined a variable, called `first_name` and set it to the value of `Jackie`. We can then use this `first_name` text later to reference the value, or change the value, that we defined here.\n",
        "\n",
        "Variables don't just have to be strings, as `'Jackie'` is, they can be of any **type**!\n",
        "\n",
        "> `type`\n",
        ">\n",
        "> When an interpreter evaluates the code, it assigns is a type of that given variable. We won't go too far into type thoery, yet, but we need to know that every variable has a certain type. Period. The variable type will define what we can do with the variable in the future.\n",
        ">\n",
        "> A simple exmaple is you have two types, `cat` and `dog` and you will be assigning one of them to the `pet` variable. A `cat` can meow and a `dog` can bark. The interpreter needs to know what the type is of the `pet` so it can know if can meow or bark. "
      ]
    },
    {
      "cell_type": "markdown",
      "metadata": {
        "id": "nbSxy3BJgjJB"
      },
      "source": [
        "### String\n",
        "A string is simply a collecton of characters. When defining the variable, we write the unique variable name, in this case `home_town`, followed by an equal sign, and then the string of characters surrounted quotes. Either single quotes, `'`, or double quotes, `\"`, can be used."
      ]
    },
    {
      "cell_type": "code",
      "execution_count": 2,
      "metadata": {
        "colab": {
          "base_uri": "https://localhost:8080/"
        },
        "id": "c0LJHlKoAMS9",
        "outputId": "28895eb2-1776-401e-ae56-1754ed1688a0"
      },
      "outputs": [
        {
          "output_type": "stream",
          "name": "stdout",
          "text": [
            "<class 'str'>\n"
          ]
        }
      ],
      "source": [
        "home_town = 'Walnut, CA'\n",
        "print(type(home_town))"
      ]
    },
    {
      "cell_type": "markdown",
      "metadata": {
        "id": "v5HMTOg8zk2R"
      },
      "source": [
        "Within Python, this is defined as the `str` type, but we always refer to it as a \"string\"."
      ]
    },
    {
      "cell_type": "markdown",
      "metadata": {
        "id": "rJ_0Ge3JrHK7"
      },
      "source": [
        "### Boolean\n",
        "A boolean is a toggle, yes or no. It is defined as `True` or `False`. This is a very simple way to toggle items on or off, but remember, capitalization matters!\n",
        "\n",
        "It is common practice to preface the variable name with an affermative word such as `is`, `has`, or `should`. This makes it obvious for future uses that it is a boolean."
      ]
    },
    {
      "cell_type": "code",
      "execution_count": 3,
      "metadata": {
        "colab": {
          "base_uri": "https://localhost:8080/"
        },
        "id": "qax7_u-orONK",
        "outputId": "82f2a619-fae5-469d-a68d-074c587da958"
      },
      "outputs": [
        {
          "output_type": "stream",
          "name": "stdout",
          "text": [
            "<class 'bool'>\n"
          ]
        }
      ],
      "source": [
        "is_rams_fan = True\n",
        "print(type(is_rams_fan))"
      ]
    },
    {
      "cell_type": "markdown",
      "metadata": {
        "id": "BZuh_sBYzhE0"
      },
      "source": [
        "Within Python, this is defined as the `bool` type, but we often refer to it as a \"boolean\"."
      ]
    },
    {
      "cell_type": "markdown",
      "metadata": {
        "id": "ZHF015pIhPaQ"
      },
      "source": [
        "### Integer\n",
        "An integer is a number without decimals. If an integer is used in a math operation that results in a number with decimals, the type will be converted. Although common in many languages, this is not true for every language."
      ]
    },
    {
      "cell_type": "code",
      "execution_count": 4,
      "metadata": {
        "colab": {
          "base_uri": "https://localhost:8080/"
        },
        "id": "Kcf2XJoWgZzX",
        "outputId": "1afe42d1-885b-4db7-a04b-672942336eef"
      },
      "outputs": [
        {
          "output_type": "stream",
          "name": "stdout",
          "text": [
            "<class 'int'>\n"
          ]
        }
      ],
      "source": [
        "siblings = 1\n",
        "print(type(siblings))"
      ]
    },
    {
      "cell_type": "markdown",
      "metadata": {
        "id": "DPKWPpjBzdgf"
      },
      "source": [
        "Within Python, this is defined as the `int` type, but we always simply refer to it as an \"integer\"."
      ]
    },
    {
      "cell_type": "markdown",
      "metadata": {
        "id": "2CqsKc0nh8mO"
      },
      "source": [
        "### Float\n",
        "An float is a number with decimals. The decimal is what sets it apart from the `int`.\n",
        "\n",
        "Within Python, this is defined as the `float` type."
      ]
    },
    {
      "cell_type": "code",
      "execution_count": 24,
      "metadata": {
        "colab": {
          "base_uri": "https://localhost:8080/"
        },
        "id": "qDJP6pNogZoa",
        "outputId": "99730c9a-a917-4ce0-817b-8067875dce61"
      },
      "outputs": [
        {
          "output_type": "stream",
          "name": "stdout",
          "text": [
            "<class 'float'>\n",
            "<class 'float'>\n"
          ]
        }
      ],
      "source": [
        "current_job_tenure = 11.13\n",
        "print(type(current_job_tenure))\n",
        "\n",
        "cars_owned = 1.\n",
        "print(type(cars_owned))"
      ]
    },
    {
      "cell_type": "markdown",
      "metadata": {
        "id": "WZQgOgJ9y9Wv"
      },
      "source": [
        "Take note of `cars_owned`. We might think it's an integer, but since it has the decimal point, it is actually a float.\n",
        "\n",
        "If a float is used in a math operation that results in a value that does not contain a decimal, the variable will still remain a float; it is not automatically converted to an integer."
      ]
    },
    {
      "cell_type": "markdown",
      "metadata": {
        "id": "KZ9tuJGBiXNd"
      },
      "source": [
        "### List\n",
        "A list is a collection of elements. The elements can be of any type. Future code can add, remove or manipuate the list, so the list length and the order of element types can never be guarenteed.\n",
        "\n",
        "Within Python, this is defined as the `list` type. Many people refer to this as an \"array\", but \"list\" is the proper Python term."
      ]
    },
    {
      "cell_type": "code",
      "execution_count": 6,
      "metadata": {
        "colab": {
          "base_uri": "https://localhost:8080/"
        },
        "id": "amAtS7cygZfI",
        "outputId": "cd350dd6-3f9c-440c-fe35-9eaf3a38a0dd"
      },
      "outputs": [
        {
          "output_type": "stream",
          "name": "stdout",
          "text": [
            "<class 'list'>\n"
          ]
        }
      ],
      "source": [
        "favorite_sports = ['volleyball']\n",
        "print(type(favorite_sports))"
      ]
    },
    {
      "cell_type": "markdown",
      "metadata": {
        "id": "ApoTa-j1iwk_"
      },
      "source": [
        "### Tuple\n",
        "A tuple is a variable with a defined amount of elements and the element type in each position is also set.\n",
        "\n",
        "Within Python, this is defined as the `tuple` type.\n",
        "\n",
        "As we see in the following code, the `current_job` tuple has two elements, the company name first and then years worked. We cannot change the order later which is helpful because we will always know that the second element will always be number and never a string!\n"
      ]
    },
    {
      "cell_type": "code",
      "execution_count": 7,
      "metadata": {
        "colab": {
          "base_uri": "https://localhost:8080/"
        },
        "id": "p3WR6JkbgZPf",
        "outputId": "508ef38d-ca3f-4bd2-bc5a-67b45ae39c8f"
      },
      "outputs": [
        {
          "output_type": "stream",
          "name": "stdout",
          "text": [
            "<class 'tuple'>\n"
          ]
        }
      ],
      "source": [
        "current_job = ('Kaiser Permanente', 16)\n",
        "print(type(current_job))"
      ]
    },
    {
      "cell_type": "markdown",
      "metadata": {
        "id": "XN_7ccpmjo7M"
      },
      "source": [
        "### Dictionary\n",
        "A dictionary is a key value store. Thiw allows us to quickly look uo values if we simply know the key. The keys are human readable terms, in this case it is `name` and `age`.\n",
        "\n",
        "Within Python, this is defined as the `dict` type. Many people refer to this as a \"map\", but \"dict\" is the proper Python term."
      ]
    },
    {
      "cell_type": "code",
      "execution_count": 8,
      "metadata": {
        "colab": {
          "base_uri": "https://localhost:8080/"
        },
        "id": "Oxg0VgSmjqyB",
        "outputId": "f62e05b2-bef2-48c9-aec0-1fe2adaee69d"
      },
      "outputs": [
        {
          "output_type": "stream",
          "name": "stdout",
          "text": [
            "<class 'dict'>\n"
          ]
        }
      ],
      "source": [
        "person = {\n",
        "    'name': 'Jackie Abellera',\n",
        "    'age': 34\n",
        "}\n",
        "print(type(person))"
      ]
    },
    {
      "cell_type": "markdown",
      "metadata": {
        "id": "WFFszjMuvXDR"
      },
      "source": [
        "Now that we have a dictonary, we can then easily access the value within it. Then, the values within the dictionary are the type of that given value."
      ]
    },
    {
      "cell_type": "code",
      "execution_count": 9,
      "metadata": {
        "colab": {
          "base_uri": "https://localhost:8080/"
        },
        "id": "P1EXtHvYvdKm",
        "outputId": "3b759a6e-41fe-4ef2-8d95-9a293a6c100a"
      },
      "outputs": [
        {
          "output_type": "stream",
          "name": "stdout",
          "text": [
            "Jackie Abellera\n",
            "<class 'int'>\n"
          ]
        }
      ],
      "source": [
        "print(person['name'])\n",
        "print(type(person['age']))"
      ]
    }
  ],
  "metadata": {
    "colab": {
      "collapsed_sections": [],
      "name": "Variables.ipynb",
      "provenance": [],
      "authorship_tag": "ABX9TyOy8vw+xxWIqusUstCp8wi9",
      "include_colab_link": true
    },
    "kernelspec": {
      "display_name": "Python 3",
      "name": "python3"
    },
    "language_info": {
      "name": "python"
    }
  },
  "nbformat": 4,
  "nbformat_minor": 0
}