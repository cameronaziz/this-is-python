{
  "cells": [
    {
      "cell_type": "markdown",
      "metadata": {
        "id": "view-in-github",
        "colab_type": "text"
      },
      "source": [
        "<a href=\"https://colab.research.google.com/github/cameronaziz/this-is-python/blob/main/02-basics/Operations.ipynb\" target=\"_parent\"><img src=\"https://colab.research.google.com/assets/colab-badge.svg\" alt=\"Open In Colab\"/></a>"
      ]
    },
    {
      "cell_type": "markdown",
      "metadata": {
        "id": "ZGBvsqxFiL5-"
      },
      "source": [
        "# Operations"
      ]
    },
    {
      "cell_type": "markdown",
      "metadata": {
        "id": "ef2m4d2T6WRU"
      },
      "source": [
        "Operations operate on operands and operators. 😏\n",
        "\n",
        "> **Operand**\n",
        ">\n",
        "> An operand is the term(s) being changed. In the math equation `1 + 2`, both `1` and `2` are the operands. Think of it like inputs.\n",
        "\n",
        "> **Operator**\n",
        ">\n",
        "> An operator is the work that is to be done. In the math equation `1 + 2`, the `+` is the operator. Think of it like instructions.\n",
        "\n",
        "The resulting value can be chained to another operator or multiple additional operators. Take this, do that, with the result, do the other. This mean that order of operation matters - who remembers PEMDAS? Although this is a bit more complicated, as there are more than just six operators, welcome back to PEMDAS. We will cover that at the end of this section."
      ]
    },
    {
      "cell_type": "markdown",
      "metadata": {
        "id": "SLSKpdXj7qQ8"
      },
      "source": [
        "## Arithmetic\n",
        "An arithmetic operation is performing a math operator to data. All data pieces must be either integers or floats. Failure to ensure this will result in unexpected results or an error."
      ]
    },
    {
      "cell_type": "markdown",
      "metadata": {
        "id": "hlg2gnB2-OYa"
      },
      "source": [
        "### Basic arithmetic\n",
        "Add, subtract, multiply, and divide. Easy.\n",
        "\n",
        "| Name | Operator |\n",
        "| :--: | :--: |\n",
        "| Add | `+` |\n",
        "| Subtract | `-` |\n",
        "| Mulitply | `*` |\n",
        "| Divide | `/` |"
      ]
    },
    {
      "cell_type": "code",
      "execution_count": null,
      "metadata": {
        "colab": {
          "base_uri": "https://localhost:8080/"
        },
        "id": "t9zHmbqD-TiF",
        "outputId": "5098bb3a-559e-43ac-ca49-eb3d7c107b57"
      },
      "outputs": [
        {
          "name": "stdout",
          "output_type": "stream",
          "text": [
            "3\n",
            "60\n",
            "-10\n",
            "100.0\n",
            "8\n",
            "2.6666666666666665\n"
          ]
        }
      ],
      "source": [
        "print(1 + 2)\n",
        "print(10 + 20 + 30) # Remember: Operators can be chained together\n",
        "print(0 - 10)\n",
        "print(100.5 - 0.5) # Remember: Float operations resulting in an integer are still floats (notice '.0' in the result)\n",
        "print(2 * 4)\n",
        "print(8 / 3) # Remember: Integer inputs may result in float output."
      ]
    },
    {
      "cell_type": "markdown",
      "metadata": {
        "id": "ohQ3XQNkD5LZ"
      },
      "source": [
        "### Exponent\n",
        "Exponent is used when wanting a number to a certian power. The operator for this is two asterisks, `**`."
      ]
    },
    {
      "cell_type": "code",
      "execution_count": null,
      "metadata": {
        "colab": {
          "base_uri": "https://localhost:8080/"
        },
        "id": "bPtNd0TjD87i",
        "outputId": "8593fcf3-f6e3-4bf9-b44d-c6be937a7274"
      },
      "outputs": [
        {
          "name": "stdout",
          "output_type": "stream",
          "text": [
            "9801\n"
          ]
        }
      ],
      "source": [
        "print(99 ** 2)"
      ]
    },
    {
      "cell_type": "markdown",
      "metadata": {
        "id": "ndp-Y8XTAeRZ"
      },
      "source": [
        "### Modulus\n",
        "Modulus is taking the result of the division and getting the remainder. The operator for this is the percent sign, `%`.\n",
        "\n",
        "For example, you are playing a game with three players, and we assign each player a position **zero based** position: `0`, `1`, and `2`.\n",
        "> **Zero Based Index**\n",
        ">\n",
        "> In computer science, we often use a zero based index. This means that counting starts at `0`, not at `1`. If the list if 100 items long, the indecies will be `0` to `99`.\n",
        "\n",
        "Now as we progress through turns, we will count the turn number. Let's say we are on turn number `47`."
      ]
    },
    {
      "cell_type": "code",
      "execution_count": null,
      "metadata": {
        "colab": {
          "base_uri": "https://localhost:8080/"
        },
        "id": "6U9xzIQuByWn",
        "outputId": "ca9631b0-2583-45d7-aaf3-90269f2d191f"
      },
      "outputs": [
        {
          "name": "stdout",
          "output_type": "stream",
          "text": [
            "2\n"
          ]
        }
      ],
      "source": [
        "current_player = 47 % 3\n",
        "print(current_player)"
      ]
    },
    {
      "cell_type": "markdown",
      "metadata": {
        "id": "Ue9dXJJ3Cpm3"
      },
      "source": [
        "Boom. It's currently the turn for player 2 because `47` divided by `3` is actually `15`, remainder `2`.\n",
        "\n",
        "This is one of the reasons why zero based indicies are used in computer science."
      ]
    },
    {
      "cell_type": "markdown",
      "metadata": {
        "id": "3uxRPV7wD2m9"
      },
      "source": [
        "### Floor Divison\n",
        "Floor division is dividing two numbers, disposing of the remainder and returning the result. The operator for this is two forward slashes, `//`."
      ]
    },
    {
      "cell_type": "code",
      "execution_count": null,
      "metadata": {
        "colab": {
          "base_uri": "https://localhost:8080/"
        },
        "id": "tJL3HMxGEjTd",
        "outputId": "fbd30225-9e07-40ff-d35f-54a6352f50ed"
      },
      "outputs": [
        {
          "name": "stdout",
          "output_type": "stream",
          "text": [
            "30\n",
            "30.416666666666668\n"
          ]
        }
      ],
      "source": [
        "days = 365\n",
        "months = 12\n",
        "print(365 // 12)\n",
        "print(365 / 12) # For reference"
      ]
    },
    {
      "cell_type": "markdown",
      "metadata": {
        "id": "SGxd4-mhxgsr"
      },
      "source": [
        "## Comparison\n",
        "Simplicity again. List and execute.\n",
        "\n",
        "| Operator | Description |\n",
        "| :--: | :--: |\n",
        "| `==` | Equal to |\n",
        "| `!=` | Not equal to |\n",
        "| `<` | Less than |\n",
        "| `>` | Greater than |\n",
        "| `<=` | Less than or equal to |\n",
        "| `>=` | Greater than or equal to |\n",
        "\n",
        "In these exampled, they should evalutate to `True` and `False`, alternating.\n"
      ]
    },
    {
      "cell_type": "code",
      "execution_count": null,
      "metadata": {
        "id": "gvN23r-jxiox"
      },
      "outputs": [],
      "source": [
        "a = 1\n",
        "b = 2\n",
        "c = 1\n",
        "\n",
        "print(a == c)\n",
        "print(a == b)\n",
        "\n",
        "print(b != c)\n",
        "print(a != c)\n",
        "\n",
        "print(a < b)\n",
        "print(b < c)\n",
        "\n",
        "print(b > c)\n",
        "print(b > b)\n",
        "\n",
        "print(b >= a)\n",
        "print(a >= b)\n",
        "\n",
        "print(a <= b)\n",
        "print(b <= a)"
      ]
    },
    {
      "cell_type": "markdown",
      "metadata": {
        "id": "GqBS7QQCk4pa"
      },
      "source": [
        "## Assignment\n",
        "Although it is not often thought as an operation, an assignment of something to something else is actually an operation. Take this, set it to that.\n",
        "\n",
        "For simplicity, we will just list and execute. Let's see if you can understand what is going on.\n",
        "\n",
        "| Operator | Description |\n",
        "| :--: | :--: |\n",
        "| `=` | Assigns the value of the right to the left |\n",
        "| `+=` | Adds the right value to the left and assigns to the left |\n",
        "| `-=` | Subtracts the right value from the left and assigns to the left |\n",
        "| `*=` | Multiplies the left value with the right and assigns to the left |\n",
        "| `/=` | Divides the left value by the right and assigns to the left |\n",
        "| `%=` | Finds the remainder if dividing th left by the right and assigns to th left  |\n",
        "| `**=` | Raises the left to the right power and assigns to the left |\n",
        "| `//=` | Divides the left by the right, rounds down to the nearest whole number, and assigns to the left |"
      ]
    },
    {
      "cell_type": "code",
      "execution_count": null,
      "metadata": {
        "colab": {
          "base_uri": "https://localhost:8080/"
        },
        "id": "1ExQrDwKlsWB",
        "outputId": "65650464-b765-4ff9-aaad-d69d7571470a"
      },
      "outputs": [
        {
          "name": "stdout",
          "output_type": "stream",
          "text": [
            "1\n",
            "10\n",
            "5\n",
            "100\n",
            "50.0\n",
            "3.0\n",
            "27.0\n",
            "6.75\n"
          ]
        }
      ],
      "source": [
        "a = 1\n",
        "print(a)\n",
        "a += 9\n",
        "print(a)\n",
        "a -= 5\n",
        "print(a)\n",
        "a *= 20\n",
        "print(a)\n",
        "a /= 2\n",
        "print(a)\n",
        "a %= 47\n",
        "print(a)\n",
        "a **= 3 \n",
        "print(a)\n",
        "a /= 4\n",
        "print(a)"
      ]
    },
    {
      "cell_type": "markdown",
      "metadata": {
        "id": "eIZCyQC6xZZQ"
      },
      "source": [
        "## Membership\n",
        "List and execute.\n",
        "\n",
        "| Operator | Description |\n",
        "| :--: | :--: |\n",
        "| `in` | Element operand is in list operand |\n",
        "| `not in` | Element operand is not in list operand |"
      ]
    },
    {
      "cell_type": "code",
      "execution_count": null,
      "metadata": {
        "id": "8E1RowxMxbVc"
      },
      "outputs": [],
      "source": [
        "list = ['a', 'b', 'c']\n",
        "\n",
        "print('a' in list)\n",
        "print('z' in list)\n",
        "\n",
        "print('x' not in list)\n",
        "print('b' not in list)"
      ]
    },
    {
      "cell_type": "markdown",
      "metadata": {
        "id": "E0uhDVUeJSep"
      },
      "source": [
        "## Logical\n",
        "Simplicity. List and execute. Get my drift?\n",
        "\n",
        "| Operator | Description |\n",
        "| :--: | :--: |\n",
        "| `and` | Both operands are `True` |\n",
        "| `or` | Either operand is `True` |\n",
        "| `not` | Neither operand is `True` |\n"
      ]
    },
    {
      "cell_type": "code",
      "execution_count": null,
      "metadata": {
        "colab": {
          "base_uri": "https://localhost:8080/"
        },
        "id": "952hc_3WS8WA",
        "outputId": "7bbb8588-f9b2-4598-86b0-6b1aa5ba1991"
      },
      "outputs": [
        {
          "name": "stdout",
          "output_type": "stream",
          "text": [
            "True\n",
            "False\n",
            "True\n",
            "False\n",
            "True\n",
            "False\n"
          ]
        }
      ],
      "source": [
        "a = True\n",
        "b = False\n",
        "c = True\n",
        "\n",
        "print(a and c)\n",
        "print(a and b)\n",
        "\n",
        "print(a or b)\n",
        "print(b and False)\n",
        "\n",
        "print(not b)\n",
        "print(not a)"
      ]
    },
    {
      "cell_type": "markdown",
      "metadata": {
        "id": "nO4Y-dXBjPO5"
      },
      "source": [
        "## Bitwise\n",
        "The operators for bitwise operations are `&`, `^`, `|`, `~`, `<<`, and `>>`.  \n",
        "\n",
        "We won't be doing any bitwise work within this course so we won't worry about these right now."
      ]
    },
    {
      "cell_type": "markdown",
      "metadata": {
        "id": "XTitLKubetBT"
      },
      "source": [
        "## Identity\n",
        "The operators for identity operations are `is` and `is not`.  \n",
        "\n",
        "We won't be doing any identity work within this course so we won't worry about these right now."
      ]
    },
    {
      "cell_type": "markdown",
      "metadata": {
        "id": "5cK41f4wlcg7"
      },
      "source": [
        "## Order of Operations\n",
        "\n",
        "So we all hated PEMDAS, but sorry. This is a little more complected.\n",
        "\n",
        "\n",
        "| Operator(s) | Description\n",
        "| :--: | :--: |\n",
        "| `**` | Exponent |\n",
        "| `*` `/` `%` `//` | Multiply - Divide - Modulus - Floor Divide |\n",
        "| `+` `-` | Add - Subtract |\n",
        "| `<=` `<` `>` `>=` | Comparators |\n",
        "| `<>` `==` `!=` | Equality |\n",
        "| `=` `%=` `/=` `//=` `-=` `+=` `*=` `**=` | Assignment |\n",
        "| `in` `not in` | Membership |\n",
        "| `and` `or` `not`  | Logical |\n"
      ]
    }
  ],
  "metadata": {
    "colab": {
      "collapsed_sections": [],
      "name": "Copy of Operations.ipynb",
      "provenance": [],
      "authorship_tag": "ABX9TyPQZgwThncQH6qGUjdFlGSn",
      "include_colab_link": true
    },
    "kernelspec": {
      "display_name": "Python 3",
      "name": "python3"
    },
    "language_info": {
      "name": "python"
    }
  },
  "nbformat": 4,
  "nbformat_minor": 0
}