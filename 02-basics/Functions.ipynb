{
  "cells": [
    {
      "cell_type": "markdown",
      "metadata": {
        "id": "view-in-github",
        "colab_type": "text"
      },
      "source": [
        "<a href=\"https://colab.research.google.com/github/cameronaziz/this-is-python/blob/main/02-basics/Functions.ipynb\" target=\"_parent\"><img src=\"https://colab.research.google.com/assets/colab-badge.svg\" alt=\"Open In Colab\"/></a>"
      ]
    },
    {
      "cell_type": "markdown",
      "metadata": {
        "id": "K16RXd_-3-SJ"
      },
      "source": [
        "# Functions\n",
        "A function is a sequence of instructions that are grouped together and can be executed in isolation."
      ]
    },
    {
      "cell_type": "markdown",
      "metadata": {
        "id": "D0hV-PMK2sVT"
      },
      "source": [
        "## Execute Function\n",
        "Python has a function called `print`. This was the function we were using to print the variable types to the screen.\n",
        "\n",
        "To execute the print function, we will 'call the function'.\n",
        "\n",
        "We will write the name of the function, `print`, followed by an opening pararenthesis, `(`, followed by any **parameters**, `first_name`, followed by a closing parenthesis, `)`.\n",
        "> **Parameter**\n",
        ">\n",
        "> A parameter is data that is passed into the function. A given function can be run many times, but with different parameters each time. This allows engineers to write more generalized code that be used in many ways. \n",
        "\n",
        "Within Colabatory, when we define a variable, it is actually available to us throughout the rest of the workbook, if it was executed above.\n",
        "\n",
        "We defined `first_name` above, so we can use it again here **only** if we pressed the play button for that piece of code."
      ]
    },
    {
      "cell_type": "code",
      "execution_count": null,
      "metadata": {
        "colab": {
          "base_uri": "https://localhost:8080/"
        },
        "id": "LSTZmG6B4e_j",
        "outputId": "e220d5c0-d628-4a31-f6c4-ed1d61f4055c"
      },
      "outputs": [
        {
          "name": "stdout",
          "output_type": "stream",
          "text": [
            "Jackie\n"
          ]
        }
      ],
      "source": [
        "print(first_name)"
      ]
    },
    {
      "cell_type": "markdown",
      "metadata": {
        "id": "3NnrKJx94lNJ"
      },
      "source": [
        "That was pretty cool. The `print` function is a function already within the Python language. There are many of them, we will use them throughout this course, but don't worry about them now.\n"
      ]
    },
    {
      "cell_type": "markdown",
      "metadata": {
        "id": "YgdxeaTz4lfm"
      },
      "source": [
        "## Write Function\n",
        "I belive in example before rules, so let's say we want to create our own function that receives both a first and a last name, and then prints it to the screen."
      ]
    },
    {
      "cell_type": "code",
      "execution_count": null,
      "metadata": {
        "colab": {
          "base_uri": "https://localhost:8080/"
        },
        "id": "x7W2D88A47I6",
        "outputId": "e54dfd94-aa07-4cef-dc2d-df888ca53924"
      },
      "outputs": [
        {
          "name": "stdout",
          "output_type": "stream",
          "text": [
            "Jackie Abellera\n"
          ]
        }
      ],
      "source": [
        "def print_name(first_name, last_name):\n",
        "    name = first_name + ' ' + last_name\n",
        "    print(name)\n",
        "\n",
        "print_name('Jackie', 'Abellera')"
      ]
    },
    {
      "cell_type": "markdown",
      "metadata": {
        "id": "hn2BXUcc5iuy"
      },
      "source": [
        "Pretty cool right! Let's break down what we're doing here.\n",
        "\n",
        "### Code Breakdown\n",
        "* `def` - The `def` **keyword** is telling Python that we will be defining a function.\n",
        "> **`Keyword`**\n",
        "> \n",
        "> A keyword is a reserved word within the programming language. The first keyword within this code is `def`. Basically, we can't define a variable with the name of `def`.\n",
        "* `print_name` - This is the name of the function. We follow that with an open parenthesis, any parameters we want and then a color, all on the same line. \n",
        "* `name = ` - This is defining a variable, `name`, and setting it equal to whatever is following the equal sign. **Take note of the indentation**.\n",
        "> **`Whitespace Aware`**\n",
        "> \n",
        "> Unlike many languages, Python is considered white space aware. This means the spaces, new lines and indentation matter. We will learn about this later.\n",
        "* `first_name + ' ' + last_name` - This is what is called a **string literal**. We are taking the string `first_name`, adding a space (`' '`), and adding the `last_name`. This will produce the text `'first last'`. Take note of the indentation. \n",
        "* `print` - Another function, but inside a function! We are **calling the function** by writing the function name followed by an open parenthesis, the **parameter(s)**, followed by a closing parenthesis. In our case, we are passing it the `name` varuable. Take note of the indentation.\n",
        "* `print_name('Jackie', 'Abellera')` - This calls the `print_name` function. Like calling the `print` function... function name, open, parametetes, close... except this time we are passing two parameters. When passing multiple parameters, we separate them by a comma and a space, as `, `.\n",
        "\n",
        "Poof. Now we can print a full name. \n"
      ]
    }
  ],
  "metadata": {
    "colab": {
      "collapsed_sections": [],
      "name": "Functions.ipynb",
      "provenance": [],
      "authorship_tag": "ABX9TyNuPW4PBJi0965Kn0j7GLzX",
      "include_colab_link": true
    },
    "kernelspec": {
      "display_name": "Python 3",
      "name": "python3"
    },
    "language_info": {
      "name": "python"
    }
  },
  "nbformat": 4,
  "nbformat_minor": 0
}