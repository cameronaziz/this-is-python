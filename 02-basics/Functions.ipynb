{
  "cells": [
    {
      "cell_type": "markdown",
      "metadata": {
        "colab_type": "text",
        "id": "view-in-github"
      },
      "source": [
        "<a href=\"https://colab.research.google.com/github/cameronaziz/this-is-python/blob/main/02-basics/Functions.ipynb\" target=\"_parent\"><img src=\"https://colab.research.google.com/assets/colab-badge.svg\" alt=\"Open In Colab\"/></a>"
      ]
    },
    {
      "cell_type": "markdown",
      "metadata": {
        "id": "K16RXd_-3-SJ"
      },
      "source": [
        "# Functions\n",
        "A function is a sequence of instructions that are grouped together and can be executed in isolation."
      ]
    },
    {
      "cell_type": "markdown",
      "metadata": {
        "id": "D0hV-PMK2sVT"
      },
      "source": [
        "## Execute Function\n",
        "Python has a function called `print`. This was the function we were using to print the variable types to the screen.\n",
        "\n",
        "To execute the print function, we will 'call the function'.\n",
        "\n",
        "We will write the name of the function, `print`, followed by an opening pararenthesis, `(`, followed by any **parameters**, `first_name`, followed by a closing parenthesis, `)`.\n",
        "> **Parameter**\n",
        ">\n",
        "> A parameter is data that is passed into the function. A given function can be run many times, but with different parameters each time. This allows engineers to write more generalized code that be used in many ways. \n",
        "\n",
        "Within Colabatory, when we define a variable, it is actually available to us throughout the rest of the workbook, if it was executed above.\n",
        "\n",
        "We defined `first_name` above, so we can use it again here **only** if we pressed the play button for that piece of code."
      ]
    },
    {
      "cell_type": "code",
      "execution_count": null,
      "metadata": {
        "colab": {
          "base_uri": "https://localhost:8080/"
        },
        "id": "LSTZmG6B4e_j",
        "outputId": "e220d5c0-d628-4a31-f6c4-ed1d61f4055c"
      },
      "outputs": [
        {
          "name": "stdout",
          "output_type": "stream",
          "text": [
            "Jackie\n"
          ]
        }
      ],
      "source": [
        "print(first_name)"
      ]
    },
    {
      "cell_type": "markdown",
      "metadata": {
        "id": "3NnrKJx94lNJ"
      },
      "source": [
        "That was pretty cool. The `print` function is a function already within the Python language. There are many of them, we will use them throughout this course, but don't worry about them now.\n"
      ]
    },
    {
      "cell_type": "markdown",
      "metadata": {
        "id": "YgdxeaTz4lfm"
      },
      "source": [
        "## Write Function\n",
        "I belive in example before rules, so let's say we want to create our own function that receives both a first and a last name, and then prints it to the screen."
      ]
    },
    {
      "cell_type": "code",
      "execution_count": null,
      "metadata": {
        "colab": {
          "base_uri": "https://localhost:8080/"
        },
        "id": "x7W2D88A47I6",
        "outputId": "e54dfd94-aa07-4cef-dc2d-df888ca53924"
      },
      "outputs": [
        {
          "name": "stdout",
          "output_type": "stream",
          "text": [
            "Jackie Abellera\n"
          ]
        }
      ],
      "source": [
        "def print_name(first_name, last_name):\n",
        "    name = first_name + ' ' + last_name\n",
        "    print(name)\n",
        "\n",
        "print_name('Jackie', 'Abellera')"
      ]
    },
    {
      "cell_type": "markdown",
      "metadata": {
        "id": "hn2BXUcc5iuy"
      },
      "source": [
        "Pretty cool right! Let's break down what we're doing here.\n",
        "\n",
        "### Code Breakdown\n",
        "* `def` - The `def` **keyword** is telling Python that we will be defining a function.\n",
        "> **`Keyword`**\n",
        "> \n",
        "> A keyword is a reserved word within the programming language. The first keyword within this code is `def`. Basically, we can't define a variable with the name of `def`.\n",
        "* `print_name` - This is the name of the function. We follow that with an open parenthesis, any parameters we want and then a color, all on the same line. \n",
        "* `name = ` - This is defining a variable, `name`, and setting it equal to whatever is following the equal sign. **Take note of the indentation**.\n",
        "> **`Whitespace Aware`**\n",
        "> \n",
        "> Unlike many languages, Python is considered white space aware. This means the spaces, new lines and indentation matter. We will learn about this later.\n",
        "* `first_name + ' ' + last_name` - This is what is called a **string literal**. We are taking the string `first_name`, adding a space (`' '`), and adding the `last_name`. This will produce the text `'first last'`. Take note of the indentation. \n",
        "* `print` - Another function, but inside a function! We are **calling the function** by writing the function name followed by an open parenthesis, the **parameter(s)**, followed by a closing parenthesis. In our case, we are passing it the `name` varuable. Take note of the indentation.\n",
        "* `print_name('Jackie', 'Abellera')` - This calls the `print_name` function. Like calling the `print` function... function name, open, parametetes, close... except this time we are passing two parameters. When passing multiple parameters, we separate them by a comma and a space, as `, `.\n",
        "\n",
        "Poof. Now we can print a full name. \n"
      ]
    },
    {
      "cell_type": "markdown",
      "metadata": {
        "id": "g1X3lcun6D-x"
      },
      "source": [
        "# Operations\n",
        "An operation is doing simply taking inputs, doing something to it, and returning the result."
      ]
    },
    {
      "cell_type": "markdown",
      "metadata": {
        "id": "ef2m4d2T6WRU"
      },
      "source": [
        "Operations operate on operands and operators. 😏\n",
        "\n",
        "> **Operand**\n",
        ">\n",
        "> An operand is the term(s) being changed. In the math equation `1 + 2`, both `1` and `2` are the operands. Think of it like inputs.\n",
        "\n",
        "> **Operator**\n",
        ">\n",
        "> An operator is the work that is to be done. In the math equation `1 + 2`, the `+` is the operator. Think of it like instructions.\n",
        "\n",
        "The resulting value can be chained to another operator or multiple additional operators. Take this, do that, with the result, do the other. This mean that order of operation matters - who remembers PEMDAS? Although this is a bit more complicated, as there are more than just six operators, welcome back to PEMDAS. We will cover that at the end of this section."
      ]
    },
    {
      "cell_type": "markdown",
      "metadata": {
        "id": "SLSKpdXj7qQ8"
      },
      "source": [
        "## Arithmetic\n",
        "An arithmetic operation is performing a math operator to data. All data pieces must be either integers or floats. Failure to ensure this will result in unexpected results or an error."
      ]
    },
    {
      "cell_type": "markdown",
      "metadata": {
        "id": "hlg2gnB2-OYa"
      },
      "source": [
        "### Basic arithmetic\n",
        "Add, subtract, multiply, and divide. Easy.\n",
        "\n",
        "| Name | Operator |\n",
        "| :--: | :--: |\n",
        "| Add | `+` |\n",
        "| Subtract | `-` |\n",
        "| Mulitply | `*` |\n",
        "| Divide | `/` |"
      ]
    },
    {
      "cell_type": "code",
      "execution_count": null,
      "metadata": {
        "colab": {
          "base_uri": "https://localhost:8080/"
        },
        "id": "t9zHmbqD-TiF",
        "outputId": "5098bb3a-559e-43ac-ca49-eb3d7c107b57"
      },
      "outputs": [
        {
          "name": "stdout",
          "output_type": "stream",
          "text": [
            "3\n",
            "60\n",
            "-10\n",
            "100.0\n",
            "8\n",
            "2.6666666666666665\n"
          ]
        }
      ],
      "source": [
        "print(1 + 2)\n",
        "print(10 + 20 + 30) # Remember: Operators can be chained together\n",
        "print(0 - 10)\n",
        "print(100.5 - 0.5) # Remember: Float operations resulting in an integer are still floats (notice '.0' in the result)\n",
        "print(2 * 4)\n",
        "print(8 / 3) # Remember: Integer inputs may result in float output."
      ]
    },
    {
      "cell_type": "markdown",
      "metadata": {
        "id": "ohQ3XQNkD5LZ"
      },
      "source": [
        "### Exponent\n",
        "Exponent is used when wanting a number to a certian power. The operator for this is two asterisks, `**`."
      ]
    },
    {
      "cell_type": "code",
      "execution_count": null,
      "metadata": {
        "colab": {
          "base_uri": "https://localhost:8080/"
        },
        "id": "bPtNd0TjD87i",
        "outputId": "8593fcf3-f6e3-4bf9-b44d-c6be937a7274"
      },
      "outputs": [
        {
          "name": "stdout",
          "output_type": "stream",
          "text": [
            "9801\n"
          ]
        }
      ],
      "source": [
        "print(99 ** 2)"
      ]
    },
    {
      "cell_type": "markdown",
      "metadata": {
        "id": "ndp-Y8XTAeRZ"
      },
      "source": [
        "### Modulus\n",
        "Modulus is taking the result of the division and getting the remainder. The operator for this is the percent sign, `%`.\n",
        "\n",
        "For example, you are playing a game with three players, and we assign each player a position **zero based** position: `0`, `1`, and `2`.\n",
        "> **Zero Based Index**\n",
        ">\n",
        "> In computer science, we often use a zero based index. This means that counting starts at `0`, not at `1`. If the list if 100 items long, the indecies will be `0` to `99`.\n",
        "\n",
        "Now as we progress through turns, we will count the turn number. Let's say we are on turn number `47`."
      ]
    },
    {
      "cell_type": "code",
      "execution_count": null,
      "metadata": {
        "colab": {
          "base_uri": "https://localhost:8080/"
        },
        "id": "6U9xzIQuByWn",
        "outputId": "ca9631b0-2583-45d7-aaf3-90269f2d191f"
      },
      "outputs": [
        {
          "name": "stdout",
          "output_type": "stream",
          "text": [
            "2\n"
          ]
        }
      ],
      "source": [
        "current_player = 47 % 3\n",
        "print(current_player)"
      ]
    },
    {
      "cell_type": "markdown",
      "metadata": {
        "id": "Ue9dXJJ3Cpm3"
      },
      "source": [
        "Boom. It's currently the turn for player 2 because `47` divided by `3` is actually `15`, remainder `2`.\n",
        "\n",
        "This is one of the reasons why zero based indicies are used in computer science."
      ]
    },
    {
      "cell_type": "markdown",
      "metadata": {
        "id": "3uxRPV7wD2m9"
      },
      "source": [
        "### Floor Divison\n",
        "Floor division is dividing two numbers, disposing of the remainder and returning the result. The operator for this is two forward slashes, `//`."
      ]
    },
    {
      "cell_type": "code",
      "execution_count": null,
      "metadata": {
        "colab": {
          "base_uri": "https://localhost:8080/"
        },
        "id": "tJL3HMxGEjTd",
        "outputId": "fbd30225-9e07-40ff-d35f-54a6352f50ed"
      },
      "outputs": [
        {
          "name": "stdout",
          "output_type": "stream",
          "text": [
            "30\n",
            "30.416666666666668\n"
          ]
        }
      ],
      "source": [
        "days = 365\n",
        "months = 12\n",
        "print(365 // 12)\n",
        "print(365 / 12) # For reference"
      ]
    },
    {
      "cell_type": "markdown",
      "metadata": {
        "id": "SGxd4-mhxgsr"
      },
      "source": [
        "## Comparison\n",
        "Simplicity again. List and execute.\n",
        "\n",
        "| Operator | Description |\n",
        "| :--: | :--: |\n",
        "| `==` | Equal to |\n",
        "| `!=` | Not equal to |\n",
        "| `<` | Less than |\n",
        "| `>` | Greater than |\n",
        "| `<=` | Less than or equal to |\n",
        "| `>=` | Greater than or equal to |\n",
        "\n",
        "In these exampled, they should evalutate to `True` and `False`, alternating.\n"
      ]
    },
    {
      "cell_type": "code",
      "execution_count": null,
      "metadata": {
        "id": "gvN23r-jxiox"
      },
      "outputs": [],
      "source": [
        "a = 1\n",
        "b = 2\n",
        "c = 1\n",
        "\n",
        "print(a == c)\n",
        "print(a == b)\n",
        "\n",
        "print(b != c)\n",
        "print(a != c)\n",
        "\n",
        "print(a < b)\n",
        "print(b < c)\n",
        "\n",
        "print(b > c)\n",
        "print(b > b)\n",
        "\n",
        "print(b >= a)\n",
        "print(a >= b)\n",
        "\n",
        "print(a <= b)\n",
        "print(b <= a)"
      ]
    },
    {
      "cell_type": "markdown",
      "metadata": {
        "id": "GqBS7QQCk4pa"
      },
      "source": [
        "## Assignment\n",
        "Although it is not often thought as an operation, an assignment of something to something else is actually an operation. Take this, set it to that.\n",
        "\n",
        "For simplicity, we will just list and execute. Let's see if you can understand what is going on.\n",
        "\n",
        "| Operator | Description |\n",
        "| :--: | :--: |\n",
        "| `=` | Assigns the value of the right to the left |\n",
        "| `+=` | Adds the right value to the left and assigns to the left |\n",
        "| `-=` | Subtracts the right value from the left and assigns to the left |\n",
        "| `*=` | Multiplies the left value with the right and assigns to the left |\n",
        "| `/=` | Divides the left value by the right and assigns to the left |\n",
        "| `%=` | Finds the remainder if dividing th left by the right and assigns to th left  |\n",
        "| `**=` | Raises the left to the right power and assigns to the left |\n",
        "| `//=` | Divides the left by the right, rounds down to the nearest whole number, and assigns to the left |"
      ]
    },
    {
      "cell_type": "code",
      "execution_count": null,
      "metadata": {
        "colab": {
          "base_uri": "https://localhost:8080/"
        },
        "id": "1ExQrDwKlsWB",
        "outputId": "65650464-b765-4ff9-aaad-d69d7571470a"
      },
      "outputs": [
        {
          "name": "stdout",
          "output_type": "stream",
          "text": [
            "1\n",
            "10\n",
            "5\n",
            "100\n",
            "50.0\n",
            "3.0\n",
            "27.0\n",
            "6.75\n"
          ]
        }
      ],
      "source": [
        "a = 1\n",
        "print(a)\n",
        "a += 9\n",
        "print(a)\n",
        "a -= 5\n",
        "print(a)\n",
        "a *= 20\n",
        "print(a)\n",
        "a /= 2\n",
        "print(a)\n",
        "a %= 47\n",
        "print(a)\n",
        "a **= 3 \n",
        "print(a)\n",
        "a /= 4\n",
        "print(a)"
      ]
    },
    {
      "cell_type": "markdown",
      "metadata": {
        "id": "eIZCyQC6xZZQ"
      },
      "source": [
        "## Membership\n",
        "List and execute.\n",
        "\n",
        "| Operator | Description |\n",
        "| :--: | :--: |\n",
        "| `in` | Element operand is in list operand |\n",
        "| `not in` | Element operand is not in list operand |"
      ]
    },
    {
      "cell_type": "code",
      "execution_count": null,
      "metadata": {
        "id": "8E1RowxMxbVc"
      },
      "outputs": [],
      "source": [
        "list = ['a', 'b', 'c']\n",
        "\n",
        "print('a' in list)\n",
        "print('z' in list)\n",
        "\n",
        "print('x' not in list)\n",
        "print('b' not in list)"
      ]
    },
    {
      "cell_type": "markdown",
      "metadata": {
        "id": "E0uhDVUeJSep"
      },
      "source": [
        "## Logical\n",
        "Simplicity. List and execute. Get my drift?\n",
        "\n",
        "| Operator | Description |\n",
        "| :--: | :--: |\n",
        "| `and` | Both operands are `True` |\n",
        "| `or` | Either operand is `True` |\n",
        "| `not` | Neither operand is `True` |\n"
      ]
    },
    {
      "cell_type": "code",
      "execution_count": null,
      "metadata": {
        "colab": {
          "base_uri": "https://localhost:8080/"
        },
        "id": "952hc_3WS8WA",
        "outputId": "7bbb8588-f9b2-4598-86b0-6b1aa5ba1991"
      },
      "outputs": [
        {
          "name": "stdout",
          "output_type": "stream",
          "text": [
            "True\n",
            "False\n",
            "True\n",
            "False\n",
            "True\n",
            "False\n"
          ]
        }
      ],
      "source": [
        "a = True\n",
        "b = False\n",
        "c = True\n",
        "\n",
        "print(a and c)\n",
        "print(a and b)\n",
        "\n",
        "print(a or b)\n",
        "print(b and False)\n",
        "\n",
        "print(not b)\n",
        "print(not a)"
      ]
    },
    {
      "cell_type": "markdown",
      "metadata": {
        "id": "nO4Y-dXBjPO5"
      },
      "source": [
        "## Bitwise\n",
        "The operators for bitwise operations are `&`, `^`, `|`, `~`, `<<`, and `>>`.  \n",
        "\n",
        "We won't be doing any bitwise work within this course so we won't worry about these right now."
      ]
    },
    {
      "cell_type": "markdown",
      "metadata": {
        "id": "XTitLKubetBT"
      },
      "source": [
        "## Identity\n",
        "The operators for identity operations are `is` and `is not`.  \n",
        "\n",
        "We won't be doing any identity work within this course so we won't worry about these right now."
      ]
    },
    {
      "cell_type": "markdown",
      "metadata": {
        "id": "5cK41f4wlcg7"
      },
      "source": [
        "## Order of Operations\n",
        "\n",
        "So we all hated PEMDAS, but sorry. This is a little more complected.\n",
        "\n",
        "\n",
        "| Operator(s) | Description\n",
        "| :--: | :--: |\n",
        "| `**` | Exponent |\n",
        "| `*` `/` `%` `//` | Multiply - Divide - Modulus - Floor Divide |\n",
        "| `+` `-` | Add - Subtract |\n",
        "| `<=` `<` `>` `>=` | Comparators |\n",
        "| `<>` `==` `!=` | Equality |\n",
        "| `=` `%=` `/=` `//=` `-=` `+=` `*=` `**=` | Assignment |\n",
        "| `in` `not in` | Membership |\n",
        "| `and` `or` `not`  | Logical |\n"
      ]
    },
    {
      "cell_type": "markdown",
      "metadata": {
        "id": "XvalSElCyPb9"
      },
      "source": [
        "# Decisions\n",
        "Do something if something is something."
      ]
    },
    {
      "cell_type": "markdown",
      "metadata": {
        "id": "mrZosw6Gyk0s"
      },
      "source": [
        "When writing the source code, we want it to do something **IF** something is `True`. We can use a comparator to evalutate if a condition is `True`, and if so take a certain code path, if not, take another."
      ]
    },
    {
      "cell_type": "code",
      "execution_count": null,
      "metadata": {
        "colab": {
          "base_uri": "https://localhost:8080/"
        },
        "id": "MBY-mVXSy_eI",
        "outputId": "054f8578-c250-4e44-d4de-7813f619acc3"
      },
      "outputs": [
        {
          "name": "stdout",
          "output_type": "stream",
          "text": [
            "Jackie needs a manicure.\n"
          ]
        }
      ],
      "source": [
        "is_manicure_needed = True\n",
        "\n",
        "if is_manicure_needed:\n",
        "  print('Jackie needs a manicure.')"
      ]
    },
    {
      "cell_type": "markdown",
      "metadata": {
        "id": "mb8hVd9SzdXS"
      },
      "source": [
        "Here we can see the evaluation, `if loves_menudo:`. We start with the `if` statement, followed by a condition, our case `loves_menudo`, followed by a color, `:`.\n",
        "\n",
        "Since `loves_menudo` is a boolean, it is a condition."
      ]
    },
    {
      "cell_type": "code",
      "execution_count": null,
      "metadata": {
        "colab": {
          "base_uri": "https://localhost:8080/"
        },
        "id": "PQdQwRbU0D84",
        "outputId": "788122c5-7589-4122-8220-9dc6d25a91e5"
      },
      "outputs": [
        {
          "name": "stdout",
          "output_type": "stream",
          "text": [
            "Jackie needs a manicure.\n"
          ]
        }
      ],
      "source": [
        "days_since_manicure = 21\n",
        "\n",
        "if days_since_manicure > 14:\n",
        "  print('Jackie needs a manicure.')"
      ]
    },
    {
      "cell_type": "markdown",
      "metadata": {
        "id": "wPj6csb20U7Z"
      },
      "source": [
        "If you run the above code, nothing will print to the screen. The condition is `days_since_manicure > 14`. The greater than operator, `>`, evaluates the operands and returns a `True` or `False`. This is then used as the condition."
      ]
    },
    {
      "cell_type": "markdown",
      "metadata": {
        "id": "qb4cbaZM1App"
      },
      "source": [
        "This all works for if the condition evaluates to `True`, but often we want to do something else if it is `False`."
      ]
    },
    {
      "cell_type": "code",
      "execution_count": null,
      "metadata": {
        "colab": {
          "base_uri": "https://localhost:8080/"
        },
        "id": "Xazu3sYB1APm",
        "outputId": "f584f86f-7633-4734-c451-15c062e572ba"
      },
      "outputs": [
        {
          "name": "stdout",
          "output_type": "stream",
          "text": [
            "Jackie likes her nails.\n"
          ]
        }
      ],
      "source": [
        "days_since_manicure = 8\n",
        "\n",
        "if days_since_manicure > 14:\n",
        "  print('Jackie needs a manicure.')\n",
        "else:\n",
        "  print('Jackie likes her nails.')"
      ]
    },
    {
      "cell_type": "markdown",
      "metadata": {
        "id": "ZBMGymvH1iVM"
      },
      "source": [
        "As you can see, we simply follow the `if` block with an `else`. The code within that block will execute only if the `if` condition returns `False`."
      ]
    },
    {
      "cell_type": "markdown",
      "metadata": {
        "id": "lJYcGyTa2RUf"
      },
      "source": [
        "Sometimes we want to start chaing them together, and `elif` comes in handy for that."
      ]
    },
    {
      "cell_type": "code",
      "execution_count": null,
      "metadata": {
        "colab": {
          "base_uri": "https://localhost:8080/"
        },
        "id": "7-kqR6cV0Qju",
        "outputId": "27b69be7-028b-46f5-fce4-f970d821a897"
      },
      "outputs": [
        {
          "name": "stdout",
          "output_type": "stream",
          "text": [
            "Jackie wants a manicure.\n"
          ]
        }
      ],
      "source": [
        "days_since_manicure = 8\n",
        "\n",
        "if days_since_manicure > 14:\n",
        "  print('Jackie needs a manicure.')\n",
        "elif days_since_manicure > 7:\n",
        "  print('Jackie wants a manicure.')\n",
        "else:\n",
        "  print('Jackie likes her nails.')\n",
        "  "
      ]
    },
    {
      "cell_type": "markdown",
      "metadata": {
        "id": "fCrd-mjS2aMj"
      },
      "source": [
        "First, the interpreter evalues the first confition, `days_since_manicure > 14`. SInce this results in `False`, the `elif` condition, `days_since_manicure > 7` is evaluates. This results in `True` and the following block of code is executed. SInce the `elif` condition evaluated to `True`, all following `elif` or `else` conditions are not evaluated. We don't even check."
      ]
    },
    {
      "cell_type": "markdown",
      "metadata": {
        "id": "yeuK4O_aMH60"
      },
      "source": [
        "# References vs Values\n",
        "Values are stored in references and values, but what is that?"
      ]
    },
    {
      "cell_type": "markdown",
      "metadata": {
        "id": "S4bIbYfJyEGG"
      },
      "source": [
        "When a computer stores a given variable in memory it is assigned that memory address. The interpreter takes the memory address and remembers that a given variable is pointing to that address.\n",
        "\n",
        "Let's say when the interpreter parsed `a = 1`, it assigned this to memory address `abc123`(the actual memory address is much longer). Now lets say `b` points to `bcd234` and `c` points to `cde345`.\n",
        "\n",
        "We then start our comparisons. It all makes sense, `a` and `c` are equal, they are both `1`. `b` is different as it is `2`. All groovy. \n",
        "\n",
        "With the dictionaries, we do the same. We assign `some_person` to `def456` and `another_person` to `efg567`.\n",
        "\n",
        "Lastly, and most importanlty, we assigned `same_person` to `some_person`. Instead of pointing to a new memory address, the interpreter remembers `same_person` is simply referencing the same memory address, `def456`.\n",
        "\n",
        "When we assigned the `same_person` variable, we call this **assign by reference**, as it is assigning the variable to the reference, not the actual value. All other assignments are called **assign by value** as we are assigning the value directly."
      ]
    }
  ],
  "metadata": {
    "colab": {
      "authorship_tag": "ABX9TyNlqVfpJpSLICLjR3pKL/3I",
      "collapsed_sections": [],
      "include_colab_link": true,
      "name": "Functions.ipynb",
      "provenance": []
    },
    "kernelspec": {
      "display_name": "Python 3",
      "name": "python3"
    },
    "language_info": {
      "name": "python"
    }
  },
  "nbformat": 4,
  "nbformat_minor": 0
}
