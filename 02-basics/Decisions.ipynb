{
  "cells": [
    {
      "cell_type": "markdown",
      "metadata": {
        "colab_type": "text",
        "id": "view-in-github"
      },
      "source": [
        "<a href=\"https://colab.research.google.com/github/cameronaziz/this-is-python/blob/main/02-basics/Decisions.ipynb\" target=\"_parent\"><img src=\"https://colab.research.google.com/assets/colab-badge.svg\" alt=\"Open In Colab\"/></a>"
      ]
    },
    {
      "cell_type": "markdown",
      "metadata": {
        "id": "XvalSElCyPb9"
      },
      "source": [
        "# Decisions\n",
        "Do something if something is something."
      ]
    },
    {
      "cell_type": "markdown",
      "metadata": {
        "id": "mrZosw6Gyk0s"
      },
      "source": [
        "When writing the source code, we want it to do something **IF** something is `True`. We can use a comparator to evalutate if a condition is `True`, and if so take a certain code path, if not, take another."
      ]
    },
    {
      "cell_type": "code",
      "execution_count": null,
      "metadata": {
        "colab": {
          "base_uri": "https://localhost:8080/"
        },
        "id": "MBY-mVXSy_eI",
        "outputId": "054f8578-c250-4e44-d4de-7813f619acc3"
      },
      "outputs": [
        {
          "name": "stdout",
          "output_type": "stream",
          "text": [
            "Jackie needs a manicure.\n"
          ]
        }
      ],
      "source": [
        "is_manicure_needed = True\n",
        "\n",
        "if is_manicure_needed:\n",
        "  print('Jackie needs a manicure.')"
      ]
    },
    {
      "cell_type": "markdown",
      "metadata": {
        "id": "mb8hVd9SzdXS"
      },
      "source": [
        "Here we can see the evaluation, `if loves_menudo:`. We start with the `if` statement, followed by a condition, our case `loves_menudo`, followed by a color, `:`.\n",
        "\n",
        "Since `loves_menudo` is a boolean, it is a condition."
      ]
    },
    {
      "cell_type": "code",
      "execution_count": null,
      "metadata": {
        "colab": {
          "base_uri": "https://localhost:8080/"
        },
        "id": "PQdQwRbU0D84",
        "outputId": "788122c5-7589-4122-8220-9dc6d25a91e5"
      },
      "outputs": [
        {
          "name": "stdout",
          "output_type": "stream",
          "text": [
            "Jackie needs a manicure.\n"
          ]
        }
      ],
      "source": [
        "days_since_manicure = 21\n",
        "\n",
        "if days_since_manicure > 14:\n",
        "  print('Jackie needs a manicure.')"
      ]
    },
    {
      "cell_type": "markdown",
      "metadata": {
        "id": "wPj6csb20U7Z"
      },
      "source": [
        "If you run the above code, nothing will print to the screen. The condition is `days_since_manicure > 14`. The greater than operator, `>`, evaluates the operands and returns a `True` or `False`. This is then used as the condition."
      ]
    },
    {
      "cell_type": "markdown",
      "metadata": {
        "id": "qb4cbaZM1App"
      },
      "source": [
        "This all works for if the condition evaluates to `True`, but often we want to do something else if it is `False`."
      ]
    },
    {
      "cell_type": "code",
      "execution_count": null,
      "metadata": {
        "colab": {
          "base_uri": "https://localhost:8080/"
        },
        "id": "Xazu3sYB1APm",
        "outputId": "f584f86f-7633-4734-c451-15c062e572ba"
      },
      "outputs": [
        {
          "name": "stdout",
          "output_type": "stream",
          "text": [
            "Jackie likes her nails.\n"
          ]
        }
      ],
      "source": [
        "days_since_manicure = 8\n",
        "\n",
        "if days_since_manicure > 14:\n",
        "  print('Jackie needs a manicure.')\n",
        "else:\n",
        "  print('Jackie likes her nails.')"
      ]
    },
    {
      "cell_type": "markdown",
      "metadata": {
        "id": "ZBMGymvH1iVM"
      },
      "source": [
        "As you can see, we simply follow the `if` block with an `else`. The code within that block will execute only if the `if` condition returns `False`."
      ]
    },
    {
      "cell_type": "markdown",
      "metadata": {
        "id": "lJYcGyTa2RUf"
      },
      "source": [
        "Sometimes we want to start chaing them together, and `elif` comes in handy for that."
      ]
    },
    {
      "cell_type": "code",
      "execution_count": null,
      "metadata": {
        "colab": {
          "base_uri": "https://localhost:8080/"
        },
        "id": "7-kqR6cV0Qju",
        "outputId": "27b69be7-028b-46f5-fce4-f970d821a897"
      },
      "outputs": [
        {
          "name": "stdout",
          "output_type": "stream",
          "text": [
            "Jackie wants a manicure.\n"
          ]
        }
      ],
      "source": [
        "days_since_manicure = 8\n",
        "\n",
        "if days_since_manicure > 14:\n",
        "  print('Jackie needs a manicure.')\n",
        "elif days_since_manicure > 7:\n",
        "  print('Jackie wants a manicure.')\n",
        "else:\n",
        "  print('Jackie likes her nails.')\n",
        "  "
      ]
    },
    {
      "cell_type": "markdown",
      "metadata": {
        "id": "fCrd-mjS2aMj"
      },
      "source": [
        "First, the interpreter evalues the first confition, `days_since_manicure > 14`. SInce this results in `False`, the `elif` condition, `days_since_manicure > 7` is evaluates. This results in `True` and the following block of code is executed. SInce the `elif` condition evaluated to `True`, all following `elif` or `else` conditions are not evaluated. We don't even check."
      ]
    }
  ],
  "metadata": {
    "colab": {
      "authorship_tag": "ABX9TyMuqYRFY8UY9AXFdHBlQ6XP",
      "collapsed_sections": [],
      "include_colab_link": true,
      "name": "Decisions.ipynb",
      "provenance": []
    },
    "kernelspec": {
      "display_name": "Python 3",
      "name": "python3"
    },
    "language_info": {
      "name": "python"
    }
  },
  "nbformat": 4,
  "nbformat_minor": 0
}
