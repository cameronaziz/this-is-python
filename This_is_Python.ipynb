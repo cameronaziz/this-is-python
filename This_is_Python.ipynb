{
  "nbformat": 4,
  "nbformat_minor": 0,
  "metadata": {
    "colab": {
      "name": "This is Python.ipynb",
      "provenance": [],
      "collapsed_sections": [],
      "authorship_tag": "ABX9TyOoWsLWG33NKD7K4YpLCWk+",
      "include_colab_link": true
    },
    "kernelspec": {
      "name": "python3",
      "display_name": "Python 3"
    },
    "language_info": {
      "name": "python"
    }
  },
  "cells": [
    {
      "cell_type": "markdown",
      "metadata": {
        "id": "view-in-github",
        "colab_type": "text"
      },
      "source": [
        "<a href=\"https://colab.research.google.com/github/cameronaziz/this-is-python/blob/main/This_is_Python.ipynb\" target=\"_parent\"><img src=\"https://colab.research.google.com/assets/colab-badge.svg\" alt=\"Open In Colab\"/></a>"
      ]
    },
    {
      "cell_type": "markdown",
      "source": [
        "# This is Python.\n",
        "\n",
        "Considered by many as the world's most popular language, as of 2021, Python is a great language for various qualities such as its easy to learn syntax (the way you write the source code), large community and resources, and industry demand."
      ],
      "metadata": {
        "id": "FTgQ5P1prQEE"
      }
    },
    {
      "cell_type": "markdown",
      "source": [
        "## Sections\n",
        "\n",
        "## Introduction\n",
        "| Name | Links |\n",
        "| :--: | :--: |\n",
        "| About this Course | [Colab](https://colab.research.google.com/drive/1UBZKvWykuuNbFkY8_6w6Wm99S3oGKCT3) - [Github](https://github.com/cameronaziz/this-is-python/blob/main/About_this_Course.ipynb) |\n",
        "\n",
        "## Basics\n",
        "| Name | Links |\n",
        "| :--: | :--: |\n",
        "| Variables | [Colab](https://colab.research.google.com/github/cameronaziz/this-is-python/blob/main/Variables.ipynb) - [Github](https://github.com/cameronaziz/this-is-python/blob/main/Variables.ipynb) |\n",
        "| Functions | [Colab](https://colab.research.google.com/github/cameronaziz/this-is-python/blob/main/Functions.ipynb) - [Github](https://github.com/cameronaziz/this-is-python/blob/main/Functions.ipynb) |\n",
        "| Operations | [Colab](https://colab.research.google.com/github/cameronaziz/this-is-python/blob/main/Operations.ipynb) - [Github](https://github.com/cameronaziz/this-is-python/blob/main/Operations.ipynb) |\n",
        "| Decisions | [Colab](https://colab.research.google.com/github/cameronaziz/this-is-python/blob/main/Decisions.ipynb) - [Github](https://github.com/cameronaziz/this-is-python/blob/main/Decisions.ipynb) |\n",
        "\n",
        "## Housekeeping\n",
        "| Name | Links |\n",
        "| :--: | :--: |\n",
        "| Computer Science 101 | [Colab](https://colab.research.google.com/github/cameronaziz/this-is-python/blob/main/Computer_Science_101.ipynb) - [Github](https://github.com/cameronaziz/this-is-python/blob/main/Computer_Science_101.ipynb) |"
      ],
      "metadata": {
        "id": "eri1iP1brgwB"
      }
    }
  ]
}