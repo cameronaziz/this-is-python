{
  "nbformat": 4,
  "nbformat_minor": 0,
  "metadata": {
    "colab": {
      "name": "This is Python.ipynb",
      "provenance": [],
      "collapsed_sections": [],
      "authorship_tag": "ABX9TyNsUYAuFh7alvBobsQhKLdq",
      "include_colab_link": true
    },
    "kernelspec": {
      "name": "python3",
      "display_name": "Python 3"
    },
    "language_info": {
      "name": "python"
    }
  },
  "cells": [
    {
      "cell_type": "markdown",
      "metadata": {
        "id": "view-in-github",
        "colab_type": "text"
      },
      "source": [
        "<a href=\"https://colab.research.google.com/github/cameronaziz/this-is-python/blob/main/This_is_Python.ipynb\" target=\"_parent\"><img src=\"https://colab.research.google.com/assets/colab-badge.svg\" alt=\"Open In Colab\"/></a>"
      ]
    },
    {
      "cell_type": "markdown",
      "source": [
        "# This is Python.\n",
        "\n",
        "Considered by many as the world's most popular language, as of 2021, Python is a great language for various qualities such as its easy to learn syntax (the way you write the source code), large community and resources, and industry demand."
      ],
      "metadata": {
        "id": "FTgQ5P1prQEE"
      }
    },
    {
      "cell_type": "markdown",
      "source": [
        ""
      ],
      "metadata": {
        "id": "aoFkiJDDfHaf"
      }
    },
    {
      "cell_type": "markdown",
      "source": [
        "# About this Course\n"
      ],
      "metadata": {
        "id": "eri1iP1brgwB"
      }
    },
    {
      "cell_type": "markdown",
      "source": [
        "This is Google Colabatory. Setting up Python on your computer and ensuring everything is installed correctly shouldn't be the first thing you have to learn in order to learn Python. This course is in what is called Google Colabatory.\n"
      ],
      "metadata": {
        "id": "PEbZXxYAz2K5"
      }
    },
    {
      "cell_type": "markdown",
      "source": [
        "## Setup"
      ],
      "metadata": {
        "id": "I3R291exL_0i"
      }
    },
    {
      "cell_type": "markdown",
      "source": [
        "> The following will change the user interface of what you are looking at right now. To get back here afterwards, follow these steps.\n",
        "> * Click \"7 cells hidden\" under the \"About this Course\" title\n",
        "> * Click \"1 cell hidden\" under \"Setup\"\n",
        "\n",
        "We can also collapse all the sections within the course.\n",
        "* On the top menu, click 'View'\n",
        "* Click 'Collapse Sections'\n",
        "\n",
        "Welcome back.\n",
        "\n",
        "If you haven't already, click the hamburger bar at the top left, this is the Table of Contents.\n",
        "The hamburger bar looks like this: \n",
        "![Screen Shot 2021-12-28 at 4.50.35 AM.png](data:image/png;base64,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)"
      ],
      "metadata": {
        "id": "ghvKIfzaHUc2"
      }
    },
    {
      "cell_type": "markdown",
      "source": [
        "## Organization\n"
      ],
      "metadata": {
        "id": "eNASSZQVHHRs"
      }
    },
    {
      "cell_type": "markdown",
      "source": [
        "There will be sections of text, like what you are reading right now, and sections of code, like so:"
      ],
      "metadata": {
        "id": "zwP-PAj1L6UA"
      }
    },
    {
      "cell_type": "code",
      "source": [
        "# This is code"
      ],
      "metadata": {
        "id": "7U6lj5DdsHdW"
      },
      "execution_count": null,
      "outputs": []
    },
    {
      "cell_type": "markdown",
      "source": [
        "Every code block can be easily run. Although the code above doesn't do anything, it can be run by\n",
        "\n",
        "* Hover over the `[ ]` and wait for the play button to appear\n",
        "* Click the play button.\n",
        "\n",
        "Try that now. Boom. Now that code is actually executed on Google's servers, not even your own computer. Nifty. More information about Google Colabratory can be [found here](https://research.google.com/colaboratory/faq.html).\n",
        "\n",
        "Now lets code.\n"
      ],
      "metadata": {
        "id": "0OTg9dNQsJgb"
      }
    },
    {
      "cell_type": "markdown",
      "source": [
        "# What is Python\n",
        "Python is an awesome programming language."
      ],
      "metadata": {
        "id": "Phfhxj1v3fhW"
      }
    },
    {
      "cell_type": "markdown",
      "source": [
        "Python was first released in 1991 and is in wide use today, especially in data science and machine learning. There is a massive amount of libaries ready to assist new engineers with data work, along with the language's easy to read syntax.\n",
        "\n",
        "In the following example with only a few lines of code, we can make a pretty neat chart. Don't worry about reading or understanding the code now, just understand that a little code and generate, parse and display complex data models."
      ],
      "metadata": {
        "id": "sERR6Cybz-Gq"
      }
    },
    {
      "cell_type": "code",
      "source": [
        "import numpy as np\n",
        "import matplotlib.pyplot as plt\n",
        "\n",
        "a = 0\n",
        "b = 6\n",
        "c = 30\n",
        "d = -6\n",
        "e = 6\n",
        "f = 30\n",
        "\n",
        "X, Y = np.meshgrid(np.linspace(a, b, c), np.linspace(d, e, f))\n",
        "Z = np.sin(np.sqrt(X ** 2 + Y ** 2))\n",
        "ax = plt.axes(projection='3d')\n",
        "ax.plot_surface(X, Y, Z, rstride=1, cstride=1, cmap='viridis', edgecolor='none')"
      ],
      "metadata": {
        "colab": {
          "base_uri": "https://localhost:8080/",
          "height": 265
        },
        "id": "8KzRrGW7poNy",
        "outputId": "3400a5c5-21c3-411f-bb0e-61e3aa69a549"
      },
      "execution_count": null,
      "outputs": [
        {
          "output_type": "execute_result",
          "data": {
            "text/plain": [
              "<mpl_toolkits.mplot3d.art3d.Poly3DCollection at 0x7fbb1310c510>"
            ]
          },
          "metadata": {},
          "execution_count": 2
        },
        {
          "output_type": "display_data",
          "data": {
            "image/png": "[encoded data removed]",
            "text/plain": [
              "<Figure size 432x288 with 1 Axes>"
            ]
          },
          "metadata": {
            "needs_background": "light"
          }
        }
      ]
    },
    {
      "cell_type": "markdown",
      "source": [
        "If you want to play with the graph, you can change `a`, `b`, `c`, `d`, `e`, or `f` ot any number. After you make a change, press the play button. Have fun."
      ],
      "metadata": {
        "id": "3co8nic8oNF5"
      }
    },
    {
      "cell_type": "markdown",
      "source": [
        "# Comments\n",
        "A comment is a way to write text within the code that will not be read by the interpreter."
      ],
      "metadata": {
        "id": "JMU8v2_1ARkd"
      }
    },
    {
      "cell_type": "markdown",
      "source": [
        "\n",
        "I know, we wanted to get into writing code, but lets look at how to write a comment within the code. Throughout this course, we will be using comments to annoate directly within the code blocks because a comment will not be read by the Python interpreter.\n",
        "\n",
        "A comment starts with a number sign, `#`. Anything following it, on the same line, will not be evaluated when the interpreter is parsing the code."
      ],
      "metadata": {
        "id": "l0TYrghp0B0v"
      }
    },
    {
      "cell_type": "code",
      "source": [
        "# This text isn't evaluated\n",
        "\n",
        "this_is = 'evaluated' # But this is not"
      ],
      "metadata": {
        "id": "iyByDIrSt1eJ"
      },
      "execution_count": null,
      "outputs": []
    },
    {
      "cell_type": "markdown",
      "source": [
        "# Variables\n",
        "A variable is a way we can store a value and use it later in the code. Within Python, it is very easy to define a variable.\n",
        "\n"
      ],
      "metadata": {
        "id": "jF7HcUGO3v54"
      }
    },
    {
      "cell_type": "markdown",
      "source": [
        "Within Colabatory, we can run a snippet of code by hovering over it and clicking the play button to the left.\n",
        "\n",
        "Now, run with me here, we talk about variable types in a minute, but the following code is defining a variable called `name`."
      ],
      "metadata": {
        "id": "NgYNJ2DO0F0P"
      }
    },
    {
      "cell_type": "code",
      "execution_count": null,
      "metadata": {
        "id": "dAPiD_dx3a4M"
      },
      "outputs": [],
      "source": [
        "first_name = 'Jackie'"
      ]
    },
    {
      "cell_type": "markdown",
      "source": [
        "The code above defined a variable, called `first_name` and set it to the value of `Jackie`. We can then use this `first_name` text later to reference the value, or change the value, that we defined here.\n",
        "\n",
        "Variables don't just have to be strings, as `'Jackie'` is, they can be of any **type**!\n",
        "\n",
        "> `type`\n",
        ">\n",
        "> When an interpreter evaluates the code, it assigns is a type of that given variable. We won't go too far into type thoery, yet, but we need to know that every variable has a certain type. Period. The variable type will define what we can do with the variable in the future.\n",
        ">\n",
        "> A simple exmaple is you have two types, `cat` and `dog` and you will be assigning one of them to the `pet` variable. A `cat` can meow and a `dog` can bark. The interpreter needs to know what the type is of the `pet` so it can know if can meow or bark. "
      ],
      "metadata": {
        "id": "Ohw2ynNf_Nil"
      }
    },
    {
      "cell_type": "markdown",
      "source": [
        "### String\n",
        "A string is simply a collecton of characters. When defining the variable, we write the unique variable name, in this case `home_town`, followed by an equal sign, and then the string of characters surrounted quotes. Either single quotes, `'`, or double quotes, `\"`, can be used."
      ],
      "metadata": {
        "id": "nbSxy3BJgjJB"
      }
    },
    {
      "cell_type": "code",
      "source": [
        "home_town = 'Walnut, CA'\n",
        "print(type(home_town))"
      ],
      "metadata": {
        "colab": {
          "base_uri": "https://localhost:8080/"
        },
        "id": "c0LJHlKoAMS9",
        "outputId": "8a028378-0bda-4cc1-cc44-92a6ea6d1148"
      },
      "execution_count": null,
      "outputs": [
        {
          "output_type": "stream",
          "name": "stdout",
          "text": [
            "<class 'str'>\n"
          ]
        }
      ]
    },
    {
      "cell_type": "markdown",
      "source": [
        "Within Python, this is defined as the `str` type, but we always refer to it as a \"string\"."
      ],
      "metadata": {
        "id": "v5HMTOg8zk2R"
      }
    },
    {
      "cell_type": "markdown",
      "source": [
        "### Boolean\n",
        "A boolean is a toggle, yes or no. It is defined as `True` or `False`. This is a very simple way to toggle items on or off, but remember, capitalization matters!\n",
        "\n",
        "It is common practice to preface the variable name with an affermative word such as `is`, `has`, or `should`. This makes it obvious for future uses that it is a boolean."
      ],
      "metadata": {
        "id": "rJ_0Ge3JrHK7"
      }
    },
    {
      "cell_type": "code",
      "source": [
        "is_rams_fan = True\n",
        "print(type(is_rams_fan))"
      ],
      "metadata": {
        "colab": {
          "base_uri": "https://localhost:8080/"
        },
        "id": "qax7_u-orONK",
        "outputId": "1854f261-15ae-4050-93f3-89bfdfd9ee1b"
      },
      "execution_count": null,
      "outputs": [
        {
          "output_type": "stream",
          "name": "stdout",
          "text": [
            "<class 'bool'>\n"
          ]
        }
      ]
    },
    {
      "cell_type": "markdown",
      "source": [
        "Within Python, this is defined as the `bool` type, but we often refer to it as a \"boolean\"."
      ],
      "metadata": {
        "id": "BZuh_sBYzhE0"
      }
    },
    {
      "cell_type": "markdown",
      "source": [
        "### Integer\n",
        "An integer is a number without decimals. If an integer is used in a math operation that results in a number with decimals, the type will be converted. Although common in many languages, this is not true for every language."
      ],
      "metadata": {
        "id": "ZHF015pIhPaQ"
      }
    },
    {
      "cell_type": "code",
      "source": [
        "siblings = 1\n",
        "print(type(siblings))"
      ],
      "metadata": {
        "colab": {
          "base_uri": "https://localhost:8080/"
        },
        "id": "Kcf2XJoWgZzX",
        "outputId": "0916f739-deaa-4003-9016-152b423be239"
      },
      "execution_count": null,
      "outputs": [
        {
          "output_type": "stream",
          "name": "stdout",
          "text": [
            "<class 'int'>\n"
          ]
        }
      ]
    },
    {
      "cell_type": "markdown",
      "source": [
        "Within Python, this is defined as the `int` type, but we always simply refer to it as an \"integer\"."
      ],
      "metadata": {
        "id": "DPKWPpjBzdgf"
      }
    },
    {
      "cell_type": "markdown",
      "source": [
        "### Float\n",
        "An float is a number with decimals. The decimal is what sets it apart from the `int`.\n",
        "\n",
        "Within Python, this is defined as the `float` type."
      ],
      "metadata": {
        "id": "2CqsKc0nh8mO"
      }
    },
    {
      "cell_type": "code",
      "source": [
        "current_job_tenure = 11.13\n",
        "print(type(current_job_tenure))\n",
        "\n",
        "cars_owned = 1.0\n",
        "print(type(cars_owned))"
      ],
      "metadata": {
        "colab": {
          "base_uri": "https://localhost:8080/"
        },
        "id": "qDJP6pNogZoa",
        "outputId": "bbd97e97-438c-4ef7-84fe-2d0354519a31"
      },
      "execution_count": null,
      "outputs": [
        {
          "output_type": "stream",
          "name": "stdout",
          "text": [
            "<class 'float'>\n",
            "<class 'float'>\n"
          ]
        }
      ]
    },
    {
      "cell_type": "markdown",
      "source": [
        "Take note of `cars_owned`. We might think it's an integer, but since it has the decimal point, it is actually a float.\n",
        "\n",
        "If a float is used in a math operation that results in a value that does not contain a decimal, the variable will still remain a float; it is not automatically converted to an integer."
      ],
      "metadata": {
        "id": "WZQgOgJ9y9Wv"
      }
    },
    {
      "cell_type": "markdown",
      "source": [
        "### List\n",
        "A list is a collection of elements. The elements can be of any type. Future code can add, remove or manipuate the list, so the list length and the order of element types can never be guarenteed.\n",
        "\n",
        "Within Python, this is defined as the `list` type. Many people refer to this as an \"array\", but \"list\" is the proper Python term."
      ],
      "metadata": {
        "id": "KZ9tuJGBiXNd"
      }
    },
    {
      "cell_type": "code",
      "source": [
        "favorite_sports = ['volleyball']\n",
        "print(type(favorite_sports))"
      ],
      "metadata": {
        "colab": {
          "base_uri": "https://localhost:8080/"
        },
        "id": "amAtS7cygZfI",
        "outputId": "90faa633-6a7b-4f74-d0ca-357542517daa"
      },
      "execution_count": null,
      "outputs": [
        {
          "output_type": "stream",
          "name": "stdout",
          "text": [
            "<class 'list'>\n"
          ]
        }
      ]
    },
    {
      "cell_type": "markdown",
      "source": [
        "### Tuple\n",
        "A tuple is a variable with a defined amount of elements and the element type in each position is also set.\n",
        "\n",
        "Within Python, this is defined as the `tuple` type.\n",
        "\n",
        "As we see in the following code, the `current_job` tuple has two elements, the company name first and then years worked. We cannot change the order later which is helpful because we will always know that the second element will always be number and never a string!\n"
      ],
      "metadata": {
        "id": "ApoTa-j1iwk_"
      }
    },
    {
      "cell_type": "code",
      "source": [
        "current_job = ('Kaiser Permanente', 16)\n",
        "print(type(current_job))"
      ],
      "metadata": {
        "colab": {
          "base_uri": "https://localhost:8080/"
        },
        "id": "p3WR6JkbgZPf",
        "outputId": "06e96b48-af55-4539-bee8-0f5c246311cc"
      },
      "execution_count": null,
      "outputs": [
        {
          "output_type": "stream",
          "name": "stdout",
          "text": [
            "<class 'tuple'>\n"
          ]
        }
      ]
    },
    {
      "cell_type": "markdown",
      "source": [
        "### Dictionary\n",
        "A dictionary is a key value store. Thiw allows us to quickly look uo values if we simply know the key. The keys are human readable terms, in this case it is `name` and `age`.\n",
        "\n",
        "Within Python, this is defined as the `dict` type. Many people refer to this as a \"map\", but \"dict\" is the proper Python term."
      ],
      "metadata": {
        "id": "XN_7ccpmjo7M"
      }
    },
    {
      "cell_type": "code",
      "source": [
        "person = {\n",
        "    'name': 'Jackie Abellera',\n",
        "    'age': 34\n",
        "}\n",
        "print(type(person))"
      ],
      "metadata": {
        "colab": {
          "base_uri": "https://localhost:8080/"
        },
        "id": "Oxg0VgSmjqyB",
        "outputId": "d3f7aa5d-355f-454c-fda7-95881938042f"
      },
      "execution_count": null,
      "outputs": [
        {
          "output_type": "stream",
          "name": "stdout",
          "text": [
            "<class 'dict'>\n"
          ]
        }
      ]
    },
    {
      "cell_type": "markdown",
      "source": [
        "Now that we have a dictonary, we can then easily access the value within it. Then, the values within the dictionary are the type of that given value."
      ],
      "metadata": {
        "id": "WFFszjMuvXDR"
      }
    },
    {
      "cell_type": "code",
      "source": [
        "print(person['name'])\n",
        "print(type(person['age']))"
      ],
      "metadata": {
        "colab": {
          "base_uri": "https://localhost:8080/"
        },
        "id": "P1EXtHvYvdKm",
        "outputId": "3ec448fb-d361-4f7b-b0f5-cc3483092c8a"
      },
      "execution_count": null,
      "outputs": [
        {
          "output_type": "stream",
          "name": "stdout",
          "text": [
            "Jackie Abellera\n",
            "<class 'int'>\n"
          ]
        }
      ]
    },
    {
      "cell_type": "markdown",
      "source": [
        "# Functions\n",
        "A function is a sequence of instructions that are grouped together and can be executed in isolation."
      ],
      "metadata": {
        "id": "K16RXd_-3-SJ"
      }
    },
    {
      "cell_type": "markdown",
      "source": [
        "## Execute Function\n",
        "Python has a function called `print`. This was the function we were using to print the variable types to the screen.\n",
        "\n",
        "To execute the print function, we will 'call the function'.\n",
        "\n",
        "We will write the name of the function, `print`, followed by an opening pararenthesis, `(`, followed by any **parameters**, `first_name`, followed by a closing parenthesis, `)`.\n",
        "> **Parameter**\n",
        ">\n",
        "> A parameter is data that is passed into the function. A given function can be run many times, but with different parameters each time. This allows engineers to write more generalized code that be used in many ways. \n",
        "\n",
        "Within Colabatory, when we define a variable, it is actually available to us throughout the rest of the workbook, if it was executed above.\n",
        "\n",
        "We defined `first_name` above, so we can use it again here **only** if we pressed the play button for that piece of code."
      ],
      "metadata": {
        "id": "D0hV-PMK2sVT"
      }
    },
    {
      "cell_type": "code",
      "source": [
        "print(first_name)"
      ],
      "metadata": {
        "colab": {
          "base_uri": "https://localhost:8080/"
        },
        "id": "LSTZmG6B4e_j",
        "outputId": "e220d5c0-d628-4a31-f6c4-ed1d61f4055c"
      },
      "execution_count": null,
      "outputs": [
        {
          "output_type": "stream",
          "name": "stdout",
          "text": [
            "Jackie\n"
          ]
        }
      ]
    },
    {
      "cell_type": "markdown",
      "source": [
        "That was pretty cool. The `print` function is a function already within the Python language. There are many of them, we will use them throughout this course, but don't worry about them now.\n"
      ],
      "metadata": {
        "id": "3NnrKJx94lNJ"
      }
    },
    {
      "cell_type": "markdown",
      "source": [
        "## Write Function\n",
        "I belive in example before rules, so let's say we want to create our own function that receives both a first and a last name, and then prints it to the screen."
      ],
      "metadata": {
        "id": "YgdxeaTz4lfm"
      }
    },
    {
      "cell_type": "code",
      "source": [
        "def print_name(first_name, last_name):\n",
        "    name = first_name + ' ' + last_name\n",
        "    print(name)\n",
        "\n",
        "print_name('Jackie', 'Abellera')"
      ],
      "metadata": {
        "colab": {
          "base_uri": "https://localhost:8080/"
        },
        "id": "x7W2D88A47I6",
        "outputId": "e54dfd94-aa07-4cef-dc2d-df888ca53924"
      },
      "execution_count": null,
      "outputs": [
        {
          "output_type": "stream",
          "name": "stdout",
          "text": [
            "Jackie Abellera\n"
          ]
        }
      ]
    },
    {
      "cell_type": "markdown",
      "source": [
        "Pretty cool right! Let's break down what we're doing here.\n",
        "\n",
        "### Code Breakdown\n",
        "* `def` - The `def` **keyword** is telling Python that we will be defining a function.\n",
        "> **`Keyword`**\n",
        "> \n",
        "> A keyword is a reserved word within the programming language. The first keyword within this code is `def`. Basically, we can't define a variable with the name of `def`.\n",
        "* `print_name` - This is the name of the function. We follow that with an open parenthesis, any parameters we want and then a color, all on the same line. \n",
        "* `name = ` - This is defining a variable, `name`, and setting it equal to whatever is following the equal sign. **Take note of the indentation**.\n",
        "> **`Whitespace Aware`**\n",
        "> \n",
        "> Unlike many languages, Python is considered white space aware. This means the spaces, new lines and indentation matter. We will learn about this later.\n",
        "* `first_name + ' ' + last_name` - This is what is called a **string literal**. We are taking the string `first_name`, adding a space (`' '`), and adding the `last_name`. This will produce the text `'first last'`. Take note of the indentation. \n",
        "* `print` - Another function, but inside a function! We are **calling the function** by writing the function name followed by an open parenthesis, the **parameter(s)**, followed by a closing parenthesis. In our case, we are passing it the `name` varuable. Take note of the indentation.\n",
        "* `print_name('Jackie', 'Abellera')` - This calls the `print_name` function. Like calling the `print` function... function name, open, parametetes, close... except this time we are passing two parameters. When passing multiple parameters, we separate them by a comma and a space, as `, `.\n",
        "\n",
        "Poof. Now we can print a full name. \n"
      ],
      "metadata": {
        "id": "hn2BXUcc5iuy"
      }
    },
    {
      "cell_type": "markdown",
      "source": [
        "# Operations\n",
        "An operation is doing simply taking inputs, doing something to it, and returning the result."
      ],
      "metadata": {
        "id": "g1X3lcun6D-x"
      }
    },
    {
      "cell_type": "markdown",
      "source": [
        "Operations operate on operands and operators. 😏\n",
        "\n",
        "> **Operand**\n",
        ">\n",
        "> An operand is the term(s) being changed. In the math equation `1 + 2`, both `1` and `2` are the operands. Think of it like inputs.\n",
        "\n",
        "> **Operator**\n",
        ">\n",
        "> An operator is the work that is to be done. In the math equation `1 + 2`, the `+` is the operator. Think of it like instructions.\n",
        "\n",
        "The resulting value can be chained to another operator or multiple additional operators. Take this, do that, with the result, do the other. This mean that order of operation matters - who remembers PEMDAS? Although this is a bit more complicated, as there are more than just six operators, welcome back to PEMDAS. We will cover that at the end of this section."
      ],
      "metadata": {
        "id": "ef2m4d2T6WRU"
      }
    },
    {
      "cell_type": "markdown",
      "source": [
        "## Arithmetic\n",
        "An arithmetic operation is performing a math operator to data. All data pieces must be either integers or floats. Failure to ensure this will result in unexpected results or an error."
      ],
      "metadata": {
        "id": "SLSKpdXj7qQ8"
      }
    },
    {
      "cell_type": "markdown",
      "source": [
        "### Basic arithmetic\n",
        "Add, subtract, multiply, and divide. Easy.\n",
        "\n",
        "| Name | Operator |\n",
        "| :--: | :--: |\n",
        "| Add | `+` |\n",
        "| Subtract | `-` |\n",
        "| Mulitply | `*` |\n",
        "| Divide | `/` |"
      ],
      "metadata": {
        "id": "hlg2gnB2-OYa"
      }
    },
    {
      "cell_type": "code",
      "source": [
        "print(1 + 2)\n",
        "print(10 + 20 + 30) # Remember: Operators can be chained together\n",
        "print(0 - 10)\n",
        "print(100.5 - 0.5) # Remember: Float operations resulting in an integer are still floats (notice '.0' in the result)\n",
        "print(2 * 4)\n",
        "print(8 / 3) # Remember: Integer inputs may result in float output."
      ],
      "metadata": {
        "colab": {
          "base_uri": "https://localhost:8080/"
        },
        "id": "t9zHmbqD-TiF",
        "outputId": "5098bb3a-559e-43ac-ca49-eb3d7c107b57"
      },
      "execution_count": null,
      "outputs": [
        {
          "output_type": "stream",
          "name": "stdout",
          "text": [
            "3\n",
            "60\n",
            "-10\n",
            "100.0\n",
            "8\n",
            "2.6666666666666665\n"
          ]
        }
      ]
    },
    {
      "cell_type": "markdown",
      "source": [
        "### Exponent\n",
        "Exponent is used when wanting a number to a certian power. The operator for this is two asterisks, `**`."
      ],
      "metadata": {
        "id": "ohQ3XQNkD5LZ"
      }
    },
    {
      "cell_type": "code",
      "source": [
        "print(99 ** 2)"
      ],
      "metadata": {
        "id": "bPtNd0TjD87i",
        "colab": {
          "base_uri": "https://localhost:8080/"
        },
        "outputId": "8593fcf3-f6e3-4bf9-b44d-c6be937a7274"
      },
      "execution_count": null,
      "outputs": [
        {
          "output_type": "stream",
          "name": "stdout",
          "text": [
            "9801\n"
          ]
        }
      ]
    },
    {
      "cell_type": "markdown",
      "source": [
        "### Modulus\n",
        "Modulus is taking the result of the division and getting the remainder. The operator for this is the percent sign, `%`.\n",
        "\n",
        "For example, you are playing a game with three players, and we assign each player a position **zero based** position: `0`, `1`, and `2`.\n",
        "> **Zero Based Index**\n",
        ">\n",
        "> In computer science, we often use a zero based index. This means that counting starts at `0`, not at `1`. If the list if 100 items long, the indecies will be `0` to `99`.\n",
        "\n",
        "Now as we progress through turns, we will count the turn number. Let's say we are on turn number `47`."
      ],
      "metadata": {
        "id": "ndp-Y8XTAeRZ"
      }
    },
    {
      "cell_type": "code",
      "source": [
        "current_player = 47 % 3\n",
        "print(current_player)"
      ],
      "metadata": {
        "colab": {
          "base_uri": "https://localhost:8080/"
        },
        "id": "6U9xzIQuByWn",
        "outputId": "ca9631b0-2583-45d7-aaf3-90269f2d191f"
      },
      "execution_count": null,
      "outputs": [
        {
          "output_type": "stream",
          "name": "stdout",
          "text": [
            "2\n"
          ]
        }
      ]
    },
    {
      "cell_type": "markdown",
      "source": [
        "Boom. It's currently the turn for player 2 because `47` divided by `3` is actually `15`, remainder `2`.\n",
        "\n",
        "This is one of the reasons why zero based indicies are used in computer science."
      ],
      "metadata": {
        "id": "Ue9dXJJ3Cpm3"
      }
    },
    {
      "cell_type": "markdown",
      "source": [
        "### Floor Divison\n",
        "Floor division is dividing two numbers, disposing of the remainder and returning the result. The operator for this is two forward slashes, `//`."
      ],
      "metadata": {
        "id": "3uxRPV7wD2m9"
      }
    },
    {
      "cell_type": "code",
      "source": [
        "days = 365\n",
        "months = 12\n",
        "print(365 // 12)\n",
        "print(365 / 12) # For reference"
      ],
      "metadata": {
        "colab": {
          "base_uri": "https://localhost:8080/"
        },
        "id": "tJL3HMxGEjTd",
        "outputId": "fbd30225-9e07-40ff-d35f-54a6352f50ed"
      },
      "execution_count": null,
      "outputs": [
        {
          "output_type": "stream",
          "name": "stdout",
          "text": [
            "30\n",
            "30.416666666666668\n"
          ]
        }
      ]
    },
    {
      "cell_type": "markdown",
      "source": [
        "## Comparison\n",
        "Simplicity again. List and execute.\n",
        "\n",
        "| Operator | Description |\n",
        "| :--: | :--: |\n",
        "| `==` | Equal to |\n",
        "| `!=` | Not equal to |\n",
        "| `<` | Less than |\n",
        "| `>` | Greater than |\n",
        "| `<=` | Less than or equal to |\n",
        "| `>=` | Greater than or equal to |\n",
        "\n",
        "In these exampled, they should evalutate to `True` and `False`, alternating.\n"
      ],
      "metadata": {
        "id": "SGxd4-mhxgsr"
      }
    },
    {
      "cell_type": "code",
      "source": [
        "a = 1\n",
        "b = 2\n",
        "c = 1\n",
        "\n",
        "print(a == c)\n",
        "print(a == b)\n",
        "\n",
        "print(b != c)\n",
        "print(a != c)\n",
        "\n",
        "print(a < b)\n",
        "print(b < c)\n",
        "\n",
        "print(b > c)\n",
        "print(b > b)\n",
        "\n",
        "print(b >= a)\n",
        "print(a >= b)\n",
        "\n",
        "print(a <= b)\n",
        "print(b <= a)"
      ],
      "metadata": {
        "id": "gvN23r-jxiox"
      },
      "execution_count": null,
      "outputs": []
    },
    {
      "cell_type": "markdown",
      "source": [
        "## Assignment\n",
        "Although it is not often thought as an operation, an assignment of something to something else is actually an operation. Take this, set it to that.\n",
        "\n",
        "For simplicity, we will just list and execute. Let's see if you can understand what is going on.\n",
        "\n",
        "| Operator | Description |\n",
        "| :--: | :--: |\n",
        "| `=` | Assigns the value of the right to the left |\n",
        "| `+=` | Adds the right value to the left and assigns to the left |\n",
        "| `-=` | Subtracts the right value from the left and assigns to the left |\n",
        "| `*=` | Multiplies the left value with the right and assigns to the left |\n",
        "| `/=` | Divides the left value by the right and assigns to the left |\n",
        "| `%=` | Finds the remainder if dividing th left by the right and assigns to th left  |\n",
        "| `**=` | Raises the left to the right power and assigns to the left |\n",
        "| `//=` | Divides the left by the right, rounds down to the nearest whole number, and assigns to the left |"
      ],
      "metadata": {
        "id": "GqBS7QQCk4pa"
      }
    },
    {
      "cell_type": "code",
      "source": [
        "a = 1\n",
        "print(a)\n",
        "a += 9\n",
        "print(a)\n",
        "a -= 5\n",
        "print(a)\n",
        "a *= 20\n",
        "print(a)\n",
        "a /= 2\n",
        "print(a)\n",
        "a %= 47\n",
        "print(a)\n",
        "a **= 3 \n",
        "print(a)\n",
        "a /= 4\n",
        "print(a)"
      ],
      "metadata": {
        "colab": {
          "base_uri": "https://localhost:8080/"
        },
        "id": "1ExQrDwKlsWB",
        "outputId": "65650464-b765-4ff9-aaad-d69d7571470a"
      },
      "execution_count": null,
      "outputs": [
        {
          "output_type": "stream",
          "name": "stdout",
          "text": [
            "1\n",
            "10\n",
            "5\n",
            "100\n",
            "50.0\n",
            "3.0\n",
            "27.0\n",
            "6.75\n"
          ]
        }
      ]
    },
    {
      "cell_type": "markdown",
      "source": [
        "## Membership\n",
        "List and execute.\n",
        "\n",
        "| Operator | Description |\n",
        "| :--: | :--: |\n",
        "| `in` | Element operand is in list operand |\n",
        "| `not in` | Element operand is not in list operand |"
      ],
      "metadata": {
        "id": "eIZCyQC6xZZQ"
      }
    },
    {
      "cell_type": "code",
      "source": [
        "list = ['a', 'b', 'c']\n",
        "\n",
        "print('a' in list)\n",
        "print('z' in list)\n",
        "\n",
        "print('x' not in list)\n",
        "print('b' not in list)"
      ],
      "metadata": {
        "id": "8E1RowxMxbVc"
      },
      "execution_count": null,
      "outputs": []
    },
    {
      "cell_type": "markdown",
      "source": [
        "## Logical\n",
        "Simplicity. List and execute. Get my drift?\n",
        "\n",
        "| Operator | Description |\n",
        "| :--: | :--: |\n",
        "| `and` | Both operands are `True` |\n",
        "| `or` | Either operand is `True` |\n",
        "| `not` | Neither operand is `True` |\n"
      ],
      "metadata": {
        "id": "E0uhDVUeJSep"
      }
    },
    {
      "cell_type": "code",
      "source": [
        "a = True\n",
        "b = False\n",
        "c = True\n",
        "\n",
        "print(a and c)\n",
        "print(a and b)\n",
        "\n",
        "print(a or b)\n",
        "print(b and False)\n",
        "\n",
        "print(not b)\n",
        "print(not a)"
      ],
      "metadata": {
        "colab": {
          "base_uri": "https://localhost:8080/"
        },
        "id": "952hc_3WS8WA",
        "outputId": "7bbb8588-f9b2-4598-86b0-6b1aa5ba1991"
      },
      "execution_count": null,
      "outputs": [
        {
          "output_type": "stream",
          "name": "stdout",
          "text": [
            "True\n",
            "False\n",
            "True\n",
            "False\n",
            "True\n",
            "False\n"
          ]
        }
      ]
    },
    {
      "cell_type": "markdown",
      "source": [
        "## Bitwise\n",
        "The operators for bitwise operations are `&`, `^`, `|`, `~`, `<<`, and `>>`.  \n",
        "\n",
        "We won't be doing any bitwise work within this course so we won't worry about these right now."
      ],
      "metadata": {
        "id": "nO4Y-dXBjPO5"
      }
    },
    {
      "cell_type": "markdown",
      "source": [
        "## Identity\n",
        "The operators for identity operations are `is` and `is not`.  \n",
        "\n",
        "We won't be doing any identity work within this course so we won't worry about these right now."
      ],
      "metadata": {
        "id": "XTitLKubetBT"
      }
    },
    {
      "cell_type": "markdown",
      "source": [
        "## Order of Operations\n",
        "\n",
        "So we all hated PEMDAS, but sorry. This is a little more complected.\n",
        "\n",
        "\n",
        "| Operator(s) | Description\n",
        "| :--: | :--: |\n",
        "| `**` | Exponent |\n",
        "| `*` `/` `%` `//` | Multiply - Divide - Modulus - Floor Divide |\n",
        "| `+` `-` | Add - Subtract |\n",
        "| `<=` `<` `>` `>=` | Comparators |\n",
        "| `<>` `==` `!=` | Equality |\n",
        "| `=` `%=` `/=` `//=` `-=` `+=` `*=` `**=` | Assignment |\n",
        "| `in` `not in` | Membership |\n",
        "| `and` `or` `not`  | Logical |\n"
      ],
      "metadata": {
        "id": "5cK41f4wlcg7"
      }
    },
    {
      "cell_type": "markdown",
      "source": [
        "# Decisions\n",
        "Do something if something is something."
      ],
      "metadata": {
        "id": "XvalSElCyPb9"
      }
    },
    {
      "cell_type": "markdown",
      "source": [
        "When writing the source code, we want it to do something **IF** something is `True`. We can use a comparator to evalutate if a condition is `True`, and if so take a certain code path, if not, take another."
      ],
      "metadata": {
        "id": "mrZosw6Gyk0s"
      }
    },
    {
      "cell_type": "code",
      "source": [
        "is_manicure_needed = True\n",
        "\n",
        "if is_manicure_needed:\n",
        "  print('Jackie needs a manicure.')"
      ],
      "metadata": {
        "colab": {
          "base_uri": "https://localhost:8080/"
        },
        "id": "MBY-mVXSy_eI",
        "outputId": "054f8578-c250-4e44-d4de-7813f619acc3"
      },
      "execution_count": null,
      "outputs": [
        {
          "output_type": "stream",
          "name": "stdout",
          "text": [
            "Jackie needs a manicure.\n"
          ]
        }
      ]
    },
    {
      "cell_type": "markdown",
      "source": [
        "Here we can see the evaluation, `if loves_menudo:`. We start with the `if` statement, followed by a condition, our case `loves_menudo`, followed by a color, `:`.\n",
        "\n",
        "Since `loves_menudo` is a boolean, it is a condition."
      ],
      "metadata": {
        "id": "mb8hVd9SzdXS"
      }
    },
    {
      "cell_type": "code",
      "source": [
        "days_since_manicure = 21\n",
        "\n",
        "if days_since_manicure > 14:\n",
        "  print('Jackie needs a manicure.')"
      ],
      "metadata": {
        "id": "PQdQwRbU0D84",
        "colab": {
          "base_uri": "https://localhost:8080/"
        },
        "outputId": "788122c5-7589-4122-8220-9dc6d25a91e5"
      },
      "execution_count": null,
      "outputs": [
        {
          "output_type": "stream",
          "name": "stdout",
          "text": [
            "Jackie needs a manicure.\n"
          ]
        }
      ]
    },
    {
      "cell_type": "markdown",
      "source": [
        "If you run the above code, nothing will print to the screen. The condition is `days_since_manicure > 14`. The greater than operator, `>`, evaluates the operands and returns a `True` or `False`. This is then used as the condition."
      ],
      "metadata": {
        "id": "wPj6csb20U7Z"
      }
    },
    {
      "cell_type": "markdown",
      "source": [
        "This all works for if the condition evaluates to `True`, but often we want to do something else if it is `False`."
      ],
      "metadata": {
        "id": "qb4cbaZM1App"
      }
    },
    {
      "cell_type": "code",
      "source": [
        "days_since_manicure = 8\n",
        "\n",
        "if days_since_manicure > 14:\n",
        "  print('Jackie needs a manicure.')\n",
        "else:\n",
        "  print('Jackie likes her nails.')"
      ],
      "metadata": {
        "id": "Xazu3sYB1APm",
        "colab": {
          "base_uri": "https://localhost:8080/"
        },
        "outputId": "f584f86f-7633-4734-c451-15c062e572ba"
      },
      "execution_count": null,
      "outputs": [
        {
          "output_type": "stream",
          "name": "stdout",
          "text": [
            "Jackie likes her nails.\n"
          ]
        }
      ]
    },
    {
      "cell_type": "markdown",
      "source": [
        "As you can see, we simply follow the `if` block with an `else`. The code within that block will execute only if the `if` condition returns `False`."
      ],
      "metadata": {
        "id": "ZBMGymvH1iVM"
      }
    },
    {
      "cell_type": "markdown",
      "source": [
        "Sometimes we want to start chaing them together, and `elif` comes in handy for that."
      ],
      "metadata": {
        "id": "lJYcGyTa2RUf"
      }
    },
    {
      "cell_type": "code",
      "source": [
        "days_since_manicure = 8\n",
        "\n",
        "if days_since_manicure > 14:\n",
        "  print('Jackie needs a manicure.')\n",
        "elif days_since_manicure > 7:\n",
        "  print('Jackie wants a manicure.')\n",
        "else:\n",
        "  print('Jackie likes her nails.')\n",
        "  "
      ],
      "metadata": {
        "colab": {
          "base_uri": "https://localhost:8080/"
        },
        "id": "7-kqR6cV0Qju",
        "outputId": "27b69be7-028b-46f5-fce4-f970d821a897"
      },
      "execution_count": null,
      "outputs": [
        {
          "output_type": "stream",
          "name": "stdout",
          "text": [
            "Jackie wants a manicure.\n"
          ]
        }
      ]
    },
    {
      "cell_type": "markdown",
      "source": [
        "First, the interpreter evalues the first confition, `days_since_manicure > 14`. SInce this results in `False`, the `elif` condition, `days_since_manicure > 7` is evaluates. This results in `True` and the following block of code is executed. SInce the `elif` condition evaluated to `True`, all following `elif` or `else` conditions are not evaluated. We don't even check."
      ],
      "metadata": {
        "id": "fCrd-mjS2aMj"
      }
    },
    {
      "cell_type": "markdown",
      "source": [
        "# References vs Values\n",
        "Values are stored in references and values, but what is that?"
      ],
      "metadata": {
        "id": "yeuK4O_aMH60"
      }
    },
    {
      "cell_type": "markdown",
      "source": [
        "When a computer stores a given variable in memory it is assigned that memory address. The interpreter takes the memory address and remembers that a given variable is pointing to that address.\n",
        "\n",
        "Let's say when the interpreter parsed `a = 1`, it assigned this to memory address `abc123`(the actual memory address is much longer). Now lets say `b` points to `bcd234` and `c` points to `cde345`.\n",
        "\n",
        "We then start our comparisons. It all makes sense, `a` and `c` are equal, they are both `1`. `b` is different as it is `2`. All groovy. \n",
        "\n",
        "With the dictionaries, we do the same. We assign `some_person` to `def456` and `another_person` to `efg567`.\n",
        "\n",
        "Lastly, and most importanlty, we assigned `same_person` to `some_person`. Instead of pointing to a new memory address, the interpreter remembers `same_person` is simply referencing the same memory address, `def456`.\n",
        "\n",
        "When we assigned the `same_person` variable, we call this **assign by reference**, as it is assigning the variable to the reference, not the actual value. All other assignments are called **assign by value** as we are assigning the value directly."
      ],
      "metadata": {
        "id": "S4bIbYfJyEGG"
      }
    }
  ]
}