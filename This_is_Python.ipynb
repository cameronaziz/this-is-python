{
  "cells": [
    {
      "cell_type": "markdown",
      "metadata": {
        "colab_type": "text",
        "id": "view-in-github"
      },
      "source": [
        "<a href=\"https://colab.research.google.com/github/cameronaziz/this-is-python/blob/main/This_is_Python.ipynb\" target=\"_parent\"><img src=\"https://colab.research.google.com/assets/colab-badge.svg\" alt=\"Open In Colab\"/></a>"
      ]
    },
    {
      "cell_type": "markdown",
      "metadata": {
        "id": "FTgQ5P1prQEE"
      },
      "source": [
        "# This is Python.\n",
        "\n",
        "Considered by many as the world's most popular language, as of 2021, Python is a great language for various qualities such as its easy to learn syntax (the way you write the source code), large community and resources, and industry demand."
      ]
    },
    {
      "cell_type": "markdown",
      "metadata": {
        "id": "eri1iP1brgwB"
      },
      "source": [
        "## Sections\n",
        "\n",
        "## Introduction\n",
        "| Name | Links |\n",
        "| :--: | :--: |\n",
        "| About this Course | [Colab](https://colab.research.google.com/github/cameronaziz/this-is-python/blob/main/01-introduction/About_this_Course.ipynb) - [Github](https://github.com/cameronaziz/this-is-python/blob/main/01-introduction/About_this_Course.ipynb) |\n",
        "\n",
        "## Basics\n",
        "| Name | Links |\n",
        "| :--: | :--: |\n",
        "| Variables | [Colab](https://colab.research.google.com/github/cameronaziz/this-is-python/blob/main/02-basics/Variables.ipynb) - [Github](https://github.com/cameronaziz/this-is-python/blob/main/02-basics/Variables.ipynb) |\n",
        "| Functions | [Colab](https://colab.research.google.com/github/cameronaziz/this-is-python/blob/main/02-basics/Functions.ipynb) - [Github](https://github.com/cameronaziz/this-is-python/blob/main/02-basics/Functions.ipynb) |\n",
        "| Operations | [Colab](https://colab.research.google.com/github/cameronaziz/this-is-python/blob/main/02-basics/Operations.ipynb) - [Github](https://github.com/cameronaziz/this-is-python/blob/main/02-basics/Operations.ipynb) |\n",
        "| Decisions | [Colab](https://colab.research.google.com/github/cameronaziz/this-is-python/blob/main/02-basics/Decisions.ipynb) - [Github](https://github.com/cameronaziz/this-is-python/blob/main/02-basics/Decisions.ipynb) |\n",
        "\n",
        "## Housekeeping\n",
        "| Name | Links |\n",
        "| :--: | :--: |\n",
        "| Computer Science 101 | [Colab](https://colab.research.google.com/github/cameronaziz/this-is-python/blob/main/03-housekeeping/Computer_Science_101.ipynb) - [Github](https://github.com/cameronaziz/this-is-python/blob/main/03-housekeeping/Computer_Science_101.ipynb) |"
      ]
    }
  ],
  "metadata": {
    "colab": {
      "authorship_tag": "ABX9TyOoWsLWG33NKD7K4YpLCWk+",
      "collapsed_sections": [],
      "include_colab_link": true,
      "name": "This is Python.ipynb",
      "provenance": []
    },
    "kernelspec": {
      "display_name": "Python 3",
      "name": "python3"
    },
    "language_info": {
      "name": "python"
    }
  },
  "nbformat": 4,
  "nbformat_minor": 0
}
