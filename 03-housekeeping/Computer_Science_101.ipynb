{
  "cells": [
    {
      "cell_type": "markdown",
      "metadata": {
        "colab_type": "text",
        "id": "view-in-github"
      },
      "source": [
        "<a href=\"https://colab.research.google.com/github/cameronaziz/this-is-python/blob/main/03-housekeeping/Computer_Science_101.ipynb\" target=\"_parent\"><img src=\"https://colab.research.google.com/assets/colab-badge.svg\" alt=\"Open In Colab\"/></a>"
      ]
    },
    {
      "cell_type": "markdown",
      "metadata": {
        "id": "UWc-dSEdizf_"
      },
      "source": [
        "# Computer Science 101\n",
        "There are a few concepts I believe a newly minted Python engineer needs to know about computer science before diving in."
      ]
    },
    {
      "cell_type": "markdown",
      "metadata": {
        "id": "IzUjlYAhi_N3"
      },
      "source": [
        "There are many computer science knowledge points that we will touch on throughout this course that are not included in this breif module, but there are a few key concepts we should learn before diving into code. Although it may seem that these concepts are both foreign and not benefitial at this time, they will be often used and reffered to in future modules."
      ]
    },
    {
      "cell_type": "markdown",
      "metadata": {
        "id": "-QKNRRWhrQxQ"
      },
      "source": [
        "## Indicies"
      ]
    },
    {
      "cell_type": "markdown",
      "metadata": {
        "id": "yeuK4O_aMH60"
      },
      "source": [
        "## References vs Values\n",
        "Values are stored in references and values, but what is that?"
      ]
    },
    {
      "cell_type": "markdown",
      "metadata": {
        "id": "S4bIbYfJyEGG"
      },
      "source": [
        "### Setup\n",
        "We write code, it makes or gets data. We want to store that data in a way so we can use it later in the code. Easy. We store that in a variable. \"The person's name is 'Jackie'\". Simple. But we need to know HOW the computer stores that variable."
      ]
    },
    {
      "cell_type": "code",
      "execution_count": null,
      "metadata": {
        "id": "AGDd_ilSlk9h"
      },
      "outputs": [],
      "source": [
        "person = {'name': 'Jackie'}"
      ]
    },
    {
      "cell_type": "markdown",
      "metadata": {
        "id": "opVioS1xlpVg"
      },
      "source": [
        "We say \"the variable person points to memory address `123`\". The actual memory address is much longer, as there are more than a tousnad memory addresses, but we divulge (warning - that happens a lot).\n",
        "\n",
        "OK, so person is at memory address 123. Lets make an idential person."
      ]
    },
    {
      "cell_type": "code",
      "execution_count": null,
      "metadata": {
        "colab": {
          "base_uri": "https://localhost:8080/"
        },
        "id": "lXWCeUndlbl4",
        "outputId": "acc67672-ff6e-40de-c5e2-358a1c6ae579"
      },
      "outputs": [
        {
          "name": "stdout",
          "output_type": "stream",
          "text": [
            "{'name': 'Jackie'}\n"
          ]
        }
      ],
      "source": [
        "first_person = {'name': 'Jackie'}\n",
        "second_person = person\n",
        "print(first_person)\n",
        "print(second_person)"
      ]
    },
    {
      "cell_type": "markdown",
      "metadata": {
        "id": "xOlFM0N8lb7L"
      },
      "source": []
    },
    {
      "cell_type": "markdown",
      "metadata": {
        "id": "GhfLGF07mYuC"
      },
      "source": [
        "### Concept\n",
        "Now let's change `second_person`'s name."
      ]
    },
    {
      "cell_type": "code",
      "execution_count": null,
      "metadata": {
        "colab": {
          "base_uri": "https://localhost:8080/"
        },
        "id": "QuyF9lX-mYbF",
        "outputId": "778c4a6f-ae09-40d1-e2ac-32a8c65bda97"
      },
      "outputs": [
        {
          "name": "stdout",
          "output_type": "stream",
          "text": [
            "Jackie\n",
            "Jackie\n",
            "\n",
            "Cameron\n",
            "Cameron\n"
          ]
        }
      ],
      "source": [
        "first_person = {'name': 'Jackie'}\n",
        "second_person = person\n",
        "\n",
        "print(first_person['name'])\n",
        "print(second_person['name'])\n",
        "\n",
        "second_person['name'] = 'Cameron'\n",
        "print('')\n",
        "\n",
        "print(first_person['name'])\n",
        "print(second_person['name'])"
      ]
    },
    {
      "cell_type": "markdown",
      "metadata": {
        "id": "aYE7SwChmjms"
      },
      "source": [
        "Woah. That is refercencs, not values.\n",
        "\n",
        "We changed the `name` of `second_person` to `'Cameron'`. But in reality, we didn't change the property of the `seocnd_person` variable, we actually changed the property of the reference that `second_person` was pointing to. Since `first_person` is actually pointing to the same reference, it's name was changed as well."
      ]
    },
    {
      "cell_type": "markdown",
      "metadata": {
        "id": "JQVAoCvCoSRO"
      },
      "source": [
        "### Values\n",
        "Now for the tricky part. Function, passed a paramter, does something, sends something back. Basic function. See if you can guess what will be printed out.\n"
      ]
    },
    {
      "cell_type": "code",
      "execution_count": null,
      "metadata": {
        "colab": {
          "base_uri": "https://localhost:8080/"
        },
        "id": "zQCNB2cOrBsa",
        "outputId": "29de568a-b9fc-462e-b822-0efb5b078ec8"
      },
      "outputs": [
        {
          "name": "stdout",
          "output_type": "stream",
          "text": [
            "partial_names\n",
            "['Jackie', 'Cameron']\n",
            "change_name(partial_names)\n",
            "['Jackie', 'Cameron']\n"
          ]
        }
      ],
      "source": [
        "partial_names = ['Jackie']\n",
        "\n",
        "def add_name(names):\n",
        "  names.append('Cameron')\n",
        "  return names\n",
        "\n",
        "all_names = add_name(partial_names)\n",
        "\n",
        "print('partial_names')\n",
        "print(partial_names)\n",
        "\n",
        "print('add_name(partial_names)')\n",
        "print(all_names)\n"
      ]
    },
    {
      "cell_type": "markdown",
      "metadata": {
        "id": "exljqXkasDHT"
      },
      "source": [
        "When we pass the variable, `partial_names` to the function `add_name`, it passed the reference. We then `append` another element, `Cameron`, so both the `partial_names` and `all_names` are changed. All is kosher. "
      ]
    },
    {
      "cell_type": "code",
      "execution_count": null,
      "metadata": {
        "colab": {
          "base_uri": "https://localhost:8080/"
        },
        "id": "QgRAZAp_r7TU",
        "outputId": "3a6046e2-735f-44f9-c309-310f952fac8d"
      },
      "outputs": [
        {
          "name": "stdout",
          "output_type": "stream",
          "text": [
            "original_name\n",
            "Jackie\n",
            "change_name(original_name)\n",
            "Cameron\n"
          ]
        }
      ],
      "source": [
        "original_name = 'Jackie'\n",
        "\n",
        "def change_name(name):\n",
        "  name = 'Cameron'\n",
        "  return name\n",
        "\n",
        "next_name = change_name(original_name)\n",
        "\n",
        "print('original_name')\n",
        "print(original_name)\n",
        "\n",
        "print('change_name(original_name)')\n",
        "print(next_name)"
      ]
    },
    {
      "cell_type": "markdown",
      "metadata": {
        "id": "0jmT7XIasl8f"
      },
      "source": [
        "Huh? I thought they were references. Changing `name` within `change_name` should have changed `original_names`, right?\n",
        "\n",
        "This leads to the next concept, immutability - I'll wrap up this lessong after that."
      ]
    },
    {
      "cell_type": "markdown",
      "metadata": {
        "id": "sToYg7NJvnnr"
      },
      "source": [
        "## Immutabliiity\n",
        "Immutabliity - can it change?\n"
      ]
    },
    {
      "cell_type": "markdown",
      "metadata": {
        "id": "BRwOqrjHvxxK"
      },
      "source": [
        "Immutablity is very different from language to language, so understanding the cocncept is important if you are reading documentation.\n",
        "\n",
        "Something that is **immutable** cannot be changed - it is NOT mutable. Within Python, certain variable types are mutatable and certain types are immutable.\n",
        "\n",
        "| Type | Immutable |\n",
        "| :--: | :--: |\n",
        "| String | Yes |\n",
        "| Boolean | Yes |\n",
        "| Integer | Yes |\n",
        "| Float | Yes |\n",
        "| Dictionary | No |\n",
        "| List | No |\n",
        "| Tuple | Yes |\n",
        "\n",
        "This means when we change a property on a dictionary, it doesn't create a new dictionary, it simply changes the property.\n",
        "\n",
        "The interesting information is a tuple. Although they seem like lists, they are immutable so changing the contents of a list will not change the original value - the change can only be assigned to a new variable."
      ]
    },
    {
      "cell_type": "markdown",
      "metadata": {
        "id": "NTKp4keWxeHz"
      },
      "source": [
        "## Refenced vs Values Recap\n",
        "Ah ha! So on the last example, since we are changing the refence to the string and strings afe immutable, it actually doesn't change the reference and when we return it, it is a new value."
      ]
    }
  ],
  "metadata": {
    "colab": {
      "authorship_tag": "ABX9TyMzIn2F9QmOJfM3xh9eWu9S",
      "collapsed_sections": [],
      "include_colab_link": true,
      "name": "Computer Science 101.ipynb",
      "provenance": []
    },
    "kernelspec": {
      "display_name": "Python 3",
      "name": "python3"
    },
    "language_info": {
      "name": "python"
    }
  },
  "nbformat": 4,
  "nbformat_minor": 0
}
